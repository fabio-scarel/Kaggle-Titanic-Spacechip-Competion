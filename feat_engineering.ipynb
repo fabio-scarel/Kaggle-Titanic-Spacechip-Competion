{
 "cells": [
  {
   "cell_type": "code",
   "execution_count": null,
   "metadata": {},
   "outputs": [],
   "source": [
    "from pathlib import Path\n",
    "import pandas as pd\n",
    "import matplotlib.pyplot as plt\n",
    "import seaborn as sns\n",
    "import numpy as np\n",
    "import scipy.stats as stats\n",
    "\n",
    "import feature_engine.imputation as mdi\n",
    "\n",
    "from sklearn.model_selection import train_test_split\n",
    "from sklearn.linear_model import BayesianRidge\n",
    "from sklearn.experimental import enable_iterative_imputer\n",
    "from sklearn.impute import IterativeImputer\n",
    "\n",
    "from sklearn.tree import DecisionTreeRegressor\n",
    "from sklearn.ensemble import ExtraTreesRegressor\n",
    "from sklearn.neighbors import KNeighborsRegressor\n",
    "\n",
    "from sklearn.compose import ColumnTransformer\n",
    "from sklearn.pipeline import Pipeline\n",
    "from sklearn.impute import SimpleImputer"
   ]
  },
  {
   "cell_type": "markdown",
   "metadata": {},
   "source": [
    "# Table of contents\n",
    "1. [Read Data](#read_data)\n",
    "2. [Nulls](#nulls)\n",
    "    1. [Frequencies](#frequencies)\n",
    "    2. [Multiple Imputation by Chained Equations](#mice)\n",
    "    3. [Imputation pipeline](#imputation_pipe)\n",
    "3. [Encoding](#encoding)\n",
    "    1. [Ordinal encoding](#oe)\n",
    "    2. [Replace categories with frequency of observation](#fo)\n",
    "    3. [Encoding with integers in a ordered manner](#encode_ordered)\n",
    "    4. [Encoding with mean of target](#encode_mean)\n",
    "    5. [Encoding with Weight of Evidence](#encode_woe)\n",
    "4. [Numerical transformation (distribution)](#num_transformation)\n",
    "    1. [Transforming variables with the logarithm](#log)\n",
    "    2. [Transforming variables with the reciprocal function](#rec)\n",
    "    3. [Transform with square and cube root](#sqrt_cbrt)\n",
    "    4. [Using power tranformations](#power_transformation)\n",
    "    5. [Box-Cox transformation](#box-cox)\n",
    "5. [Variable discretization](#discretization)\n",
    "    1. [Equal-width discretization](#ew_disc)\n",
    "    2. [Equal frequency discretization](#ef_disc)\n",
    "    3. [Discretization followed by categorical encoding](#disc_encoding)\n",
    "    4. [K-means clustering discretization](#clust_disc)\n",
    "    5. [Decision tree clustering discretization](#tree_disc)\n",
    "6. [Outliers](#outliers)\n",
    "    1. [Identification](#out_identification)\n",
    "    2. [Winsorization](#winsorization)\n",
    "    3. [Capping](#capping)\n",
    "7. [Feature Scaling](#scaling)\n",
    "    1. [Standard Scaler](#standard_scaler)\n",
    "    2. [Mean normalization](#mean_scaler)\n",
    "    3. [Min-max scaling](#min_max_scaler)\n",
    "    4. [Absolute scaling](#absolute_scaler)\n",
    "8. [Mathematical computations](#math)\n",
    "    1. [Statistical operations](#statistical)\n",
    "    2. [Polynomial expansion](#polynomial)\n",
    "    3. [Deriving new features with decision trees](#new_feat_tree)\n",
    "    4. [Principal Component Analysis](#pca)"
   ]
  },
  {
   "cell_type": "markdown",
   "metadata": {},
   "source": [
    "## <a id=\"read_data\"></a> Read Data"
   ]
  },
  {
   "cell_type": "code",
   "execution_count": null,
   "metadata": {},
   "outputs": [],
   "source": [
    "path = (Path('..') / 'Kaggle-Titanic-Spacechip-Competion')"
   ]
  },
  {
   "cell_type": "code",
   "execution_count": null,
   "metadata": {},
   "outputs": [],
   "source": [
    "train_data = pd.read_csv(path / 'train.csv')\n",
    "test_data = pd.read_csv(path / 'test.csv')"
   ]
  },
  {
   "cell_type": "code",
   "execution_count": null,
   "metadata": {},
   "outputs": [],
   "source": [
    "train_data.info()"
   ]
  },
  {
   "cell_type": "code",
   "execution_count": null,
   "metadata": {},
   "outputs": [],
   "source": [
    "data_num = train_data.select_dtypes(include=['int', 'float']).sample(25, random_state=4)\n",
    "data_cat = train_data.select_dtypes(include=['object']).sample(25, random_state=4)\n",
    "data_cat = data_cat.fillna(method='ffill')\n",
    "\n",
    "y = train_data.iloc[data_num.index].Transported"
   ]
  },
  {
   "cell_type": "code",
   "execution_count": null,
   "metadata": {},
   "outputs": [],
   "source": [
    "train_data.describe()"
   ]
  },
  {
   "cell_type": "code",
   "execution_count": null,
   "metadata": {},
   "outputs": [],
   "source": [
    "def diagnostic_plots(df, variable):\n",
    "    plt.figure(figsize=(10,2))\n",
    "    plt.subplot(1, 2, 1)\n",
    "    df[variable].hist(bins=30)\n",
    "    plt.subplot(1, 2, 2)\n",
    "    stats.probplot(df[variable], dist=\"norm\", plot=plt)\n",
    "    plt.show()"
   ]
  },
  {
   "cell_type": "markdown",
   "metadata": {},
   "source": [
    "## Nulls <a id=\"nulls\"></a>"
   ]
  },
  {
   "cell_type": "code",
   "execution_count": null,
   "metadata": {},
   "outputs": [],
   "source": [
    "train_data.isnull().sum()"
   ]
  },
  {
   "cell_type": "code",
   "execution_count": null,
   "metadata": {},
   "outputs": [],
   "source": [
    "print(train_data.select_dtypes(include='object').nunique())\n",
    "print(f'\\nlen: {len(train_data)}')"
   ]
  },
  {
   "cell_type": "markdown",
   "metadata": {},
   "source": [
    "### Frequencies <a id=\"frequencies\"></a>"
   ]
  },
  {
   "cell_type": "code",
   "execution_count": null,
   "metadata": {},
   "outputs": [],
   "source": [
    "for col in train_data.select_dtypes(include='object').columns.difference(['PassengerId', 'Cabin', 'Name']):\n",
    "    print(train_data[col].value_counts()/len(train_data), '\\n')"
   ]
  },
  {
   "cell_type": "code",
   "execution_count": null,
   "metadata": {},
   "outputs": [],
   "source": [
    "train_data.hist(bins=30, figsize=(20,8), density=True)\n",
    "plt.show()"
   ]
  },
  {
   "cell_type": "code",
   "execution_count": null,
   "metadata": {},
   "outputs": [],
   "source": [
    "plt.figure(figsize=(4,3))\n",
    "sns.boxplot(y=train_data['Spa'])"
   ]
  },
  {
   "cell_type": "markdown",
   "metadata": {},
   "source": [
    "### Multiple Imputation by Chained Equations <a id=\"mice\"></a>"
   ]
  },
  {
   "cell_type": "code",
   "execution_count": null,
   "metadata": {},
   "outputs": [],
   "source": [
    "# Imports\n",
    "from sklearn.model_selection import train_test_split\n",
    "from sklearn.experimental import enable_iterative_imputer\n",
    "from sklearn.impute import IterativeImputer\n",
    "\n",
    "from sklearn.linear_model import BayesianRidge\n",
    "from sklearn.tree import DecisionTreeRegressor\n",
    "from sklearn.ensemble import ExtraTreesRegressor\n",
    "from sklearn.neighbors import KNeighborsRegressor"
   ]
  },
  {
   "cell_type": "code",
   "execution_count": null,
   "metadata": {},
   "outputs": [],
   "source": [
    "imputer_bay = IterativeImputer(estimator=BayesianRidge(), max_iter=10)\n",
    "data_bay = imputer_bay.fit_transform(data_num)\n",
    "pd.DataFrame(data_bay, columns=imputer_bay.get_feature_names_out())"
   ]
  },
  {
   "cell_type": "code",
   "execution_count": null,
   "metadata": {},
   "outputs": [],
   "source": [
    "imputer_kn = IterativeImputer(estimator=KNeighborsRegressor(), max_iter=10)\n",
    "data_kn = imputer_kn.fit_transform(data_num)\n",
    "df_kn = pd.DataFrame(data_kn, columns=imputer_kn.get_feature_names_out())\n",
    "df_kn.VRDeck.mean()"
   ]
  },
  {
   "cell_type": "code",
   "execution_count": null,
   "metadata": {},
   "outputs": [],
   "source": [
    "imputer_bayes = IterativeImputer(\n",
    "    estimator=BayesianRidge(),\n",
    "    max_iter=10,\n",
    "    random_state=0)\n",
    "\n",
    "imputer_knn = IterativeImputer(\n",
    "    estimator=KNeighborsRegressor(n_neighbors=5),\n",
    "    max_iter=10,\n",
    "    random_state=0)\n",
    "\n",
    "imputer_nonLin = IterativeImputer(\n",
    "    estimator=DecisionTreeRegressor(\n",
    "        max_features='sqrt', random_state=0),\n",
    "    max_iter=10,\n",
    "    random_state=0)\n",
    "\n",
    "imputer_missForest = IterativeImputer(\n",
    "    estimator=ExtraTreesRegressor(\n",
    "        n_estimators=10, random_state=0),\n",
    "    max_iter=10,\n",
    "    random_state=0)"
   ]
  },
  {
   "cell_type": "code",
   "execution_count": null,
   "metadata": {},
   "outputs": [],
   "source": [
    "X_train_bayes = imputer_bayes.fit_transform(data_num)\n",
    "X_train_knn = imputer_knn.fit_transform(data_num)\n",
    "X_train_nonLin = imputer_nonLin.fit_transform(data_num)\n",
    "X_train_missForest = imputer_missForest.fit_transform(data_num)\n",
    "\n",
    "X_train_bayes = pd.DataFrame(X_train_bayes, columns=imputer_bayes.get_feature_names_out())\n",
    "X_train_knn = pd.DataFrame(X_train_knn, columns=imputer_knn.get_feature_names_out())\n",
    "X_train_nonLin = pd.DataFrame(X_train_nonLin, columns=imputer_nonLin.get_feature_names_out())\n",
    "X_train_missForest = pd.DataFrame(X_train_missForest, columns=imputer_missForest.get_feature_names_out())"
   ]
  },
  {
   "cell_type": "code",
   "execution_count": null,
   "metadata": {},
   "outputs": [],
   "source": [
    "fig = plt.figure()\n",
    "ax = fig.add_subplot(111)\n",
    "\n",
    "\n",
    "data_num['FoodCourt'].plot(kind='kde', ax=ax, color='blue')\n",
    "X_train_bayes['FoodCourt'].plot(kind='kde', ax=ax, color='green')\n",
    "X_train_knn['FoodCourt'].plot(kind='kde', ax=ax, color='red')\n",
    "X_train_nonLin['FoodCourt'].plot(kind='kde', ax=ax, color='black')\n",
    "X_train_missForest['FoodCourt'].plot(kind='kde', ax=ax, color='orange')"
   ]
  },
  {
   "cell_type": "markdown",
   "metadata": {},
   "source": [
    "### Imputation pipeline <a id=\"imputation_pipe\"></a>"
   ]
  },
  {
   "cell_type": "code",
   "execution_count": null,
   "metadata": {},
   "outputs": [],
   "source": [
    "features_num_arbitrary = ['VRDeck','ShoppingMall']\n",
    "features_num_kn = ['Age', 'RoomService']\n",
    "features_num_median = ['Spa','FoodCourt']"
   ]
  },
  {
   "cell_type": "markdown",
   "metadata": {},
   "source": [
    "#### sklearn"
   ]
  },
  {
   "cell_type": "code",
   "execution_count": null,
   "metadata": {},
   "outputs": [],
   "source": [
    "# Imports\n",
    "from sklearn.compose import ColumnTransformer\n",
    "from sklearn.pipeline import Pipeline\n",
    "from sklearn.impute import SimpleImputer"
   ]
  },
  {
   "cell_type": "code",
   "execution_count": null,
   "metadata": {},
   "outputs": [],
   "source": [
    "imputer_num_arbitrary = Pipeline(steps=[\n",
    "                                 ('imputer', SimpleImputer(strategy='constant', fill_value=327)),\n",
    "])\n",
    "imputer_num_kn = Pipeline(steps=[\n",
    "                                 ('imputer', IterativeImputer(estimator=KNeighborsRegressor(), max_iter=10)),\n",
    "])\n",
    "imputer_num_median = Pipeline(steps=[\n",
    "                                 ('imputer', SimpleImputer(strategy='median')),\n",
    "])"
   ]
  },
  {
   "cell_type": "code",
   "execution_count": null,
   "metadata": {},
   "outputs": [],
   "source": [
    "preprocessor = ColumnTransformer(transformers=[\n",
    "    ('imp_num_arbitraty', imputer_num_arbitrary, features_num_arbitrary),\n",
    "    ('imp_num_kn', imputer_num_kn, features_num_kn),\n",
    "    ('imp_num_median', imputer_num_median, features_num_median),\n",
    "], remainder='passthrough')"
   ]
  },
  {
   "cell_type": "code",
   "execution_count": null,
   "metadata": {},
   "outputs": [],
   "source": [
    "pd.DataFrame(preprocessor.fit_transform(data_num), columns=preprocessor.get_feature_names_out())"
   ]
  },
  {
   "cell_type": "markdown",
   "metadata": {},
   "source": [
    "#### feature_engine"
   ]
  },
  {
   "cell_type": "code",
   "execution_count": null,
   "metadata": {},
   "outputs": [],
   "source": [
    "# Imports\n",
    "import feature_engine.imputation as mdi"
   ]
  },
  {
   "cell_type": "code",
   "execution_count": null,
   "metadata": {},
   "outputs": [],
   "source": [
    "# Feature-engine imputers\n",
    "imp_num_arbitrary = mdi.ArbitraryNumberImputer(arbitrary_number=-999)\n",
    "imp_num_kn = mdi.MeanMedianImputer(imputation_method='mean')\n",
    "\n",
    "# Scikit-learn imputer\n",
    "imp_num_median = SimpleImputer(strategy='median')"
   ]
  },
  {
   "cell_type": "code",
   "execution_count": null,
   "metadata": {},
   "outputs": [],
   "source": [
    "preprocessor = ColumnTransformer(\n",
    "    transformers=[\n",
    "        ('imp_num_arbitrary', imp_num_arbitrary, features_num_arbitrary),\n",
    "        ('imp_num_kn', imp_num_kn, features_num_kn),\n",
    "        ('imp_num_median', imp_num_median, features_num_median)\n",
    "    ],\n",
    "    remainder='passthrough'  # Keeps the rest of the columns unchanged\n",
    ")\n",
    "\n",
    "pipe = Pipeline(steps=[\n",
    "    ('preprocessor', preprocessor)\n",
    "])"
   ]
  },
  {
   "cell_type": "code",
   "execution_count": null,
   "metadata": {},
   "outputs": [],
   "source": [
    "pd.DataFrame(pipe.fit_transform(data_num), columns=pipe.get_feature_names_out())"
   ]
  },
  {
   "cell_type": "markdown",
   "metadata": {},
   "source": [
    "### Categorical Imputation"
   ]
  },
  {
   "cell_type": "code",
   "execution_count": null,
   "metadata": {},
   "outputs": [],
   "source": [
    "# Imports\n",
    "from feature_engine.imputation import CategoricalImputer"
   ]
  },
  {
   "cell_type": "code",
   "execution_count": null,
   "metadata": {},
   "outputs": [],
   "source": [
    "imputer = CategoricalImputer(\n",
    "    fill_value=\"missing\"\n",
    ")"
   ]
  },
  {
   "cell_type": "code",
   "execution_count": null,
   "metadata": {},
   "outputs": [],
   "source": [
    "imputer = CategoricalImputer(\n",
    "    imputation_method=\"frequent\"\n",
    ")"
   ]
  },
  {
   "cell_type": "markdown",
   "metadata": {},
   "source": [
    "## Encoding <a id=\"encoding\"></a>"
   ]
  },
  {
   "cell_type": "markdown",
   "metadata": {},
   "source": [
    "### Ordinal encoding <a id=\"oe\"></a>"
   ]
  },
  {
   "cell_type": "code",
   "execution_count": null,
   "metadata": {},
   "outputs": [],
   "source": [
    "# Imports\n",
    "from sklearn.preprocessing import OrdinalEncoder as sk_oe\n",
    "from feature_engine.encoding import OrdinalEncoder as fe_oe"
   ]
  },
  {
   "cell_type": "code",
   "execution_count": null,
   "metadata": {},
   "outputs": [],
   "source": [
    "vars_to_oe = ['HomePlanet','Destination']\n",
    "\n",
    "oe = sk_oe()\n",
    "\n",
    "encoded = pd.DataFrame(oe.fit_transform(data_cat[vars_to_oe]), columns=oe.get_feature_names_out())\n",
    "encoded.index = data_cat.index\n",
    "\n",
    "pd.concat([data_cat, encoded], axis=1)"
   ]
  },
  {
   "cell_type": "markdown",
   "metadata": {},
   "source": [
    "### Replace categories with frequency of observation <a id=\"fo\"></a>"
   ]
  },
  {
   "cell_type": "code",
   "execution_count": null,
   "metadata": {},
   "outputs": [],
   "source": [
    "# Imports\n",
    "from feature_engine.encoding import CountFrequencyEncoder"
   ]
  },
  {
   "cell_type": "code",
   "execution_count": null,
   "metadata": {},
   "outputs": [],
   "source": [
    "count_map = data_cat['Destination'].value_counts().to_dict()\n",
    "print(count_map)"
   ]
  },
  {
   "cell_type": "code",
   "execution_count": null,
   "metadata": {},
   "outputs": [],
   "source": [
    "count_enc = CountFrequencyEncoder(encoding_method='count', variables=vars_to_oe, missing_values='ignore') # or encoding_method='frequency'"
   ]
  },
  {
   "cell_type": "code",
   "execution_count": null,
   "metadata": {},
   "outputs": [],
   "source": [
    "data_frequency = count_enc.fit_transform(data_cat)"
   ]
  },
  {
   "cell_type": "markdown",
   "metadata": {},
   "source": [
    "### Encoding with integers in a ordered manner <a id=\"encode_ordered\"></a>\n",
    "Good for linear models"
   ]
  },
  {
   "cell_type": "code",
   "execution_count": null,
   "metadata": {},
   "outputs": [],
   "source": [
    "# Imports\n",
    "from feature_engine.encoding import OrdinalEncoder"
   ]
  },
  {
   "cell_type": "code",
   "execution_count": null,
   "metadata": {},
   "outputs": [],
   "source": [
    "fig, axes = plt.subplots(1, 2, figsize=(6, 3))\n",
    "\n",
    "train_data.groupby(['HomePlanet'])['Transported'].mean().plot(ax=axes[0], title='HomePlanet vs Transported')\n",
    "train_data.groupby(['Destination'])['Transported'].mean().plot(ax=axes[1], title='Destination vs Transported')\n",
    "\n",
    "plt.tight_layout()\n",
    "plt.show()"
   ]
  },
  {
   "cell_type": "code",
   "execution_count": null,
   "metadata": {},
   "outputs": [],
   "source": [
    "ordinal_enc = OrdinalEncoder(encoding_method='ordered', variables=['HomePlanet','Destination'], missing_values='ignore')\n",
    "data_ordinal = ordinal_enc.fit_transform(data_cat, y)"
   ]
  },
  {
   "cell_type": "code",
   "execution_count": null,
   "metadata": {},
   "outputs": [],
   "source": [
    "fig, axes = plt.subplots(1, 2, figsize=(6, 3))\n",
    "\n",
    "pd.concat([data_ordinal, y], axis=1).groupby(['HomePlanet'])['Transported'].mean().plot(ax=axes[0], title='HomePlanet vs Transported')\n",
    "pd.concat([data_ordinal, y], axis=1).groupby(['Destination'])['Transported'].mean().plot(ax=axes[1], title='Destination vs Transported')\n",
    "\n",
    "plt.tight_layout()\n",
    "plt.show()"
   ]
  },
  {
   "cell_type": "markdown",
   "metadata": {},
   "source": [
    "### Encoding with mean of target <a id=\"encode_mean\"></a>"
   ]
  },
  {
   "cell_type": "code",
   "execution_count": null,
   "metadata": {},
   "outputs": [],
   "source": [
    "# Imports\n",
    "from feature_engine.encoding import MeanEncoder"
   ]
  },
  {
   "cell_type": "code",
   "execution_count": null,
   "metadata": {},
   "outputs": [],
   "source": [
    "data_cat.info()"
   ]
  },
  {
   "cell_type": "code",
   "execution_count": null,
   "metadata": {},
   "outputs": [],
   "source": [
    "variables=['HomePlanet','Destination']\n",
    "\n",
    "mean_enc = MeanEncoder(variables=variables)\n",
    "a = mean_enc.fit_transform(data_cat, y)"
   ]
  },
  {
   "cell_type": "code",
   "execution_count": null,
   "metadata": {},
   "outputs": [],
   "source": [
    "data_mean = mean_enc.fit_transform(data_cat, y)\n",
    "data_mean"
   ]
  },
  {
   "cell_type": "markdown",
   "metadata": {},
   "source": [
    "### Encoding with Weight of Evidence <a id=\"encode_woe\"></a>"
   ]
  },
  {
   "cell_type": "code",
   "execution_count": null,
   "metadata": {},
   "outputs": [],
   "source": [
    "# Imports\n",
    "from feature_engine.encoding import WoEEncoder"
   ]
  },
  {
   "cell_type": "code",
   "execution_count": null,
   "metadata": {},
   "outputs": [],
   "source": [
    "woe_enc = WoEEncoder(variables=['HomePlanet','Destination'])"
   ]
  },
  {
   "cell_type": "code",
   "execution_count": null,
   "metadata": {},
   "outputs": [],
   "source": [
    "# data_woe = woe_enc.fit_transform(data_cat, y)\n",
    "# data_woe"
   ]
  },
  {
   "cell_type": "markdown",
   "metadata": {},
   "source": [
    "## Numerical transformation (distribution) <a id=\"num_transformation\"></a>"
   ]
  },
  {
   "cell_type": "markdown",
   "metadata": {},
   "source": [
    "### Transforming variables with the logarithm <a id=\"log\"></a>"
   ]
  },
  {
   "cell_type": "code",
   "execution_count": null,
   "metadata": {},
   "outputs": [],
   "source": [
    "# Imports\n",
    "from sklearn.preprocessing import FunctionTransformer\n",
    "from feature_engine.transformation import LogTransformer"
   ]
  },
  {
   "cell_type": "code",
   "execution_count": null,
   "metadata": {},
   "outputs": [],
   "source": [
    "data_tf = data_num.copy()\n",
    "\n",
    "data_tf = np.log(data_num+1e-9)"
   ]
  },
  {
   "cell_type": "code",
   "execution_count": null,
   "metadata": {},
   "outputs": [],
   "source": [
    "diagnostic_plots(data_num, 'ShoppingMall')"
   ]
  },
  {
   "cell_type": "code",
   "execution_count": null,
   "metadata": {},
   "outputs": [],
   "source": [
    "diagnostic_plots(data_tf, 'ShoppingMall')"
   ]
  },
  {
   "cell_type": "code",
   "execution_count": null,
   "metadata": {},
   "outputs": [],
   "source": [
    "# \"Scales\" the data as well"
   ]
  },
  {
   "cell_type": "code",
   "execution_count": null,
   "metadata": {},
   "outputs": [],
   "source": [
    "transformer = FunctionTransformer(lambda x: np.log(x + 1e-9))\n",
    "\n",
    "data_tf = transformer.transform(data_num)\n",
    "\n",
    "pd.DataFrame(data_tf)"
   ]
  },
  {
   "cell_type": "markdown",
   "metadata": {},
   "source": [
    "### Transforming variables with the reciprocal function (1/x) <a id=\"rec\"></a>"
   ]
  },
  {
   "cell_type": "code",
   "execution_count": null,
   "metadata": {},
   "outputs": [],
   "source": [
    "# Imports\n",
    "from feature_engine.transformation import ReciprocalTransformer"
   ]
  },
  {
   "cell_type": "code",
   "execution_count": null,
   "metadata": {},
   "outputs": [],
   "source": [
    "data_rec = np.reciprocal(data_num + 1e-1)"
   ]
  },
  {
   "cell_type": "code",
   "execution_count": null,
   "metadata": {},
   "outputs": [],
   "source": [
    "diagnostic_plots(data_num, 'ShoppingMall')"
   ]
  },
  {
   "cell_type": "code",
   "execution_count": null,
   "metadata": {},
   "outputs": [],
   "source": [
    "diagnostic_plots(data_rec, 'ShoppingMall')"
   ]
  },
  {
   "cell_type": "code",
   "execution_count": null,
   "metadata": {},
   "outputs": [],
   "source": [
    "transformer = FunctionTransformer(lambda x: np.reciprocal(x + 1e-1))\n",
    "data_rec = transformer.transform(data_num)"
   ]
  },
  {
   "cell_type": "code",
   "execution_count": null,
   "metadata": {},
   "outputs": [],
   "source": [
    "# Does not work because of the 0s\n",
    "\n",
    "# rt = ReciprocalTransformer()\n",
    "# data_rec = rt.fit_transform(data)"
   ]
  },
  {
   "cell_type": "markdown",
   "metadata": {},
   "source": [
    "### Transform with square and cube root <a id=\"sqrt_cbrt\"></a>"
   ]
  },
  {
   "cell_type": "code",
   "execution_count": null,
   "metadata": {},
   "outputs": [],
   "source": [
    "data_tf = data_num.copy()"
   ]
  },
  {
   "cell_type": "code",
   "execution_count": null,
   "metadata": {},
   "outputs": [],
   "source": [
    "data_tf_sqrt = np.sqrt(data_num)\n",
    "data_tf_cbrt = np.cbrt(data_num)"
   ]
  },
  {
   "cell_type": "code",
   "execution_count": null,
   "metadata": {},
   "outputs": [],
   "source": [
    "diagnostic_plots(data_num, 'ShoppingMall')"
   ]
  },
  {
   "cell_type": "code",
   "execution_count": null,
   "metadata": {},
   "outputs": [],
   "source": [
    "diagnostic_plots(data_tf_sqrt, 'ShoppingMall')"
   ]
  },
  {
   "cell_type": "code",
   "execution_count": null,
   "metadata": {},
   "outputs": [],
   "source": [
    "diagnostic_plots(data_tf_cbrt, 'ShoppingMall')"
   ]
  },
  {
   "cell_type": "markdown",
   "metadata": {},
   "source": [
    "### Using power tranformations <a id=\"power_transformation\"></a>"
   ]
  },
  {
   "cell_type": "code",
   "execution_count": null,
   "metadata": {},
   "outputs": [],
   "source": [
    "# Imports\n",
    "from feature_engine.transformation import PowerTransformer"
   ]
  },
  {
   "cell_type": "code",
   "execution_count": null,
   "metadata": {},
   "outputs": [],
   "source": [
    "data_pt = data_num.copy()"
   ]
  },
  {
   "cell_type": "code",
   "execution_count": null,
   "metadata": {},
   "outputs": [],
   "source": [
    "pt = PowerTransformer(exp=0.23)\n",
    "df_pt = pt.fit_transform(data_pt)"
   ]
  },
  {
   "cell_type": "code",
   "execution_count": null,
   "metadata": {},
   "outputs": [],
   "source": [
    "diagnostic_plots(df_pt, 'ShoppingMall')"
   ]
  },
  {
   "cell_type": "markdown",
   "metadata": {},
   "source": [
    "### Box-Cox transformation <a id=\"box-cox\"></a>"
   ]
  },
  {
   "cell_type": "code",
   "execution_count": null,
   "metadata": {},
   "outputs": [],
   "source": [
    "# Imports\n",
    "import scipy.stats as stats\n",
    "from sklearn.preprocessing import PowerTransformer\n",
    "from feature_engine.transformation import BoxCoxTransformer, PowerTransformer"
   ]
  },
  {
   "cell_type": "code",
   "execution_count": null,
   "metadata": {},
   "outputs": [],
   "source": [
    "data_bc = data_num.copy()\n",
    "\n",
    "data_bc = data_bc+1e-5"
   ]
  },
  {
   "cell_type": "code",
   "execution_count": null,
   "metadata": {},
   "outputs": [],
   "source": [
    "# data_bc['FoodCourt'], param = stats.boxcox(data_bc['FoodCourt'])\n",
    "# print('Optimal λ: ', param)"
   ]
  },
  {
   "cell_type": "code",
   "execution_count": null,
   "metadata": {},
   "outputs": [],
   "source": [
    "diagnostic_plots(data_num, 'ShoppingMall')"
   ]
  },
  {
   "cell_type": "code",
   "execution_count": null,
   "metadata": {},
   "outputs": [],
   "source": [
    "diagnostic_plots(data_bc, 'ShoppingMall')"
   ]
  },
  {
   "cell_type": "code",
   "execution_count": null,
   "metadata": {},
   "outputs": [],
   "source": [
    "transformer = PowerTransformer(method='box-cox', standardize=True)"
   ]
  },
  {
   "cell_type": "code",
   "execution_count": null,
   "metadata": {},
   "outputs": [],
   "source": [
    "array_bc = transformer.fit_transform(data_bc)\n",
    "df_bc = pd.DataFrame(array_bc, columns=transformer.get_feature_names_out())"
   ]
  },
  {
   "cell_type": "code",
   "execution_count": null,
   "metadata": {},
   "outputs": [],
   "source": [
    "diagnostic_plots(df_bc, 'ShoppingMall')"
   ]
  },
  {
   "cell_type": "code",
   "execution_count": null,
   "metadata": {},
   "outputs": [],
   "source": [
    "transformer = PowerTransformer(method='yeo-johnson', standardize=True)\n",
    "\n",
    "array_yj = transformer.fit_transform(data_bc)\n",
    "df_yj = pd.DataFrame(array_yj, columns=transformer.get_feature_names_out())\n",
    "\n",
    "diagnostic_plots(df_yj, 'FoodCourt')"
   ]
  },
  {
   "cell_type": "code",
   "execution_count": null,
   "metadata": {},
   "outputs": [],
   "source": [
    "transformer.lambdas_"
   ]
  },
  {
   "cell_type": "markdown",
   "metadata": {},
   "source": [
    "## Variable discretization <a id=\"discretization\"></a>"
   ]
  },
  {
   "cell_type": "code",
   "execution_count": null,
   "metadata": {},
   "outputs": [],
   "source": [
    "data = train_data.select_dtypes(include=['int', 'float']).sample(25, random_state=25)\n",
    "\n",
    "data = data.fillna(method='bfill')\n",
    "\n",
    "data"
   ]
  },
  {
   "cell_type": "code",
   "execution_count": null,
   "metadata": {},
   "outputs": [],
   "source": [
    "data_disc = data.copy()"
   ]
  },
  {
   "cell_type": "markdown",
   "metadata": {},
   "source": [
    "### Equal-width discretization <a id=\"ew_disc\"></a>"
   ]
  },
  {
   "cell_type": "code",
   "execution_count": null,
   "metadata": {},
   "outputs": [],
   "source": [
    "# Imports\n",
    "from sklearn.preprocessing import KBinsDiscretizer\n",
    "from feature_engine.discretisation import EqualWidthDiscretiser"
   ]
  },
  {
   "cell_type": "code",
   "execution_count": null,
   "metadata": {},
   "outputs": [],
   "source": [
    "ew_disc = KBinsDiscretizer(n_bins=10, encode='ordinal', strategy='uniform')\n",
    "\n",
    "ew_disc = EqualWidthDiscretiser(bins=10)\n",
    "\n",
    "ew_df = ew_disc.fit_transform(data_disc)"
   ]
  },
  {
   "cell_type": "code",
   "execution_count": null,
   "metadata": {},
   "outputs": [],
   "source": [
    "diagnostic_plots(data_disc, 'FoodCourt')"
   ]
  },
  {
   "cell_type": "code",
   "execution_count": null,
   "metadata": {},
   "outputs": [],
   "source": [
    "diagnostic_plots(ew_df, 'FoodCourt')"
   ]
  },
  {
   "cell_type": "markdown",
   "metadata": {},
   "source": [
    "### Equal frequency discretization <a id=\"ef_disc\"></a>"
   ]
  },
  {
   "cell_type": "code",
   "execution_count": null,
   "metadata": {},
   "outputs": [],
   "source": [
    "# Imports\n",
    "from sklearn.preprocessing import KBinsDiscretizer\n",
    "from feature_engine.discretisation import EqualFrequencyDiscretiser"
   ]
  },
  {
   "cell_type": "code",
   "execution_count": null,
   "metadata": {},
   "outputs": [],
   "source": [
    "ef_disc = EqualFrequencyDiscretiser(q=10)"
   ]
  },
  {
   "cell_type": "code",
   "execution_count": null,
   "metadata": {},
   "outputs": [],
   "source": [
    "ef_df = ef_disc.fit_transform(data_disc)"
   ]
  },
  {
   "cell_type": "code",
   "execution_count": null,
   "metadata": {},
   "outputs": [],
   "source": [
    "diagnostic_plots(data_disc, 'ShoppingMall')"
   ]
  },
  {
   "cell_type": "code",
   "execution_count": null,
   "metadata": {},
   "outputs": [],
   "source": [
    "diagnostic_plots(ef_df, 'ShoppingMall')"
   ]
  },
  {
   "cell_type": "markdown",
   "metadata": {},
   "source": [
    "### Discretization followed by categorical encoding <a id=\"disc_encoding\"></a>"
   ]
  },
  {
   "cell_type": "markdown",
   "metadata": {},
   "source": [
    "Doing this will make it so that the mean o the target variable is ordered on all variables\n",
    "\n",
    "Good for linear models"
   ]
  },
  {
   "cell_type": "code",
   "execution_count": null,
   "metadata": {},
   "outputs": [],
   "source": [
    "# Imports\n",
    "from feature_engine.discretisation import EqualFrequencyDiscretiser\n",
    "from feature_engine.encoding import OrdinalEncoder"
   ]
  },
  {
   "cell_type": "code",
   "execution_count": null,
   "metadata": {},
   "outputs": [],
   "source": [
    "ef_disc = EqualFrequencyDiscretiser(q=10, return_object=True)"
   ]
  },
  {
   "cell_type": "code",
   "execution_count": null,
   "metadata": {},
   "outputs": [],
   "source": [
    "ef_df = ef_disc.fit_transform(data_disc)"
   ]
  },
  {
   "cell_type": "code",
   "execution_count": null,
   "metadata": {},
   "outputs": [],
   "source": [
    "y.index = ef_df.index\n",
    "\n",
    "plt.figure(figsize=(4,3))\n",
    "pd.concat([ef_df, y],axis=1).groupby('Transported').mean().plot()\n",
    "plt.ylabel('mean')\n",
    "plt.show()"
   ]
  },
  {
   "cell_type": "code",
   "execution_count": null,
   "metadata": {},
   "outputs": [],
   "source": [
    "enc = OrdinalEncoder(encoding_method = 'ordered')\n",
    "encoded = enc.fit_transform(ef_df, y)"
   ]
  },
  {
   "cell_type": "code",
   "execution_count": null,
   "metadata": {},
   "outputs": [],
   "source": [
    "y.index = encoded.index\n",
    "\n",
    "plt.figure(figsize=(2,3))\n",
    "pd.concat([encoded, y],axis=1).groupby('Transported').mean().plot()\n",
    "plt.ylabel('mean')\n",
    "plt.show()"
   ]
  },
  {
   "cell_type": "markdown",
   "metadata": {},
   "source": [
    "### K-means clustering discretization <a id=\"clust_disc\"></a>"
   ]
  },
  {
   "cell_type": "code",
   "execution_count": null,
   "metadata": {},
   "outputs": [],
   "source": [
    "# Imports\n",
    "from sklearn.preprocessing import KBinsDiscretizer"
   ]
  },
  {
   "cell_type": "code",
   "execution_count": null,
   "metadata": {},
   "outputs": [],
   "source": [
    "kb_disc = KBinsDiscretizer(n_bins=4, encode='ordinal', strategy='kmeans')\n",
    "kb_df = kb_disc.fit_transform(data_disc)\n",
    "kb_df = pd.DataFrame(kb_df, columns=kb_disc.get_feature_names_out())"
   ]
  },
  {
   "cell_type": "code",
   "execution_count": null,
   "metadata": {},
   "outputs": [],
   "source": [
    "kb_df"
   ]
  },
  {
   "cell_type": "code",
   "execution_count": null,
   "metadata": {},
   "outputs": [],
   "source": [
    "diagnostic_plots(kb_df, 'Spa')"
   ]
  },
  {
   "cell_type": "markdown",
   "metadata": {},
   "source": [
    "### Decision tree clustering discretization <a id=\"tree_disc\"></a>"
   ]
  },
  {
   "cell_type": "code",
   "execution_count": null,
   "metadata": {},
   "outputs": [],
   "source": [
    "# Imports\n",
    "from feature_engine.discretisation import DecisionTreeDiscretiser"
   ]
  },
  {
   "cell_type": "code",
   "execution_count": null,
   "metadata": {},
   "outputs": [],
   "source": [
    "tree_disc = DecisionTreeDiscretiser(cv=10,\n",
    "                                   scoring='accuracy',\n",
    "                                   regression=False, param_grid={'max_depth': [1,2,3,4]})"
   ]
  },
  {
   "cell_type": "code",
   "execution_count": null,
   "metadata": {},
   "outputs": [],
   "source": [
    "dt_df = tree_disc.fit_transform(data_disc, y)\n",
    "dt_df = pd.DataFrame(dt_df, columns=tree_disc.get_feature_names_out())"
   ]
  },
  {
   "cell_type": "code",
   "execution_count": null,
   "metadata": {},
   "outputs": [],
   "source": [
    "tree_disc.binner_dict_['ShoppingMall'].best_estimator_"
   ]
  },
  {
   "cell_type": "code",
   "execution_count": null,
   "metadata": {},
   "outputs": [],
   "source": [
    "dt_df"
   ]
  },
  {
   "cell_type": "code",
   "execution_count": null,
   "metadata": {},
   "outputs": [],
   "source": [
    "diagnostic_plots(dt_df, 'ShoppingMall')"
   ]
  },
  {
   "cell_type": "code",
   "execution_count": null,
   "metadata": {},
   "outputs": [],
   "source": [
    "y.index = dt_df.index\n",
    "\n",
    "plt.figure(figsize=(4,3))\n",
    "pd.concat([dt_df, y],axis=1).groupby('Transported').mean().plot()\n",
    "plt.ylabel('mean')\n",
    "plt.show()"
   ]
  },
  {
   "cell_type": "markdown",
   "metadata": {},
   "source": [
    "## Outliers <a id=\"outliers\"></a>"
   ]
  },
  {
   "cell_type": "markdown",
   "metadata": {},
   "source": [
    "### Identification <a id=\"out_identification\"></a>"
   ]
  },
  {
   "cell_type": "code",
   "execution_count": null,
   "metadata": {},
   "outputs": [],
   "source": [
    "def find_boundaries(df, variable, distance):\n",
    "\n",
    "    IQR = df[variable].quantile(0.75) - df[variable].quantile(0.25)\n",
    "\n",
    "    upper_bound = df[variable].quantile(0.75) + (IQR*distance)\n",
    "    lower_bound = df[variable].quantile(0.25) - (IQR*distance)\n",
    "\n",
    "    return upper_bound, lower_bound\n",
    "\n",
    "upper_bound, lower_bound = find_boundaries(train_data, 'Spa', 3)\n",
    "upper_bound, lower_bound"
   ]
  },
  {
   "cell_type": "code",
   "execution_count": null,
   "metadata": {},
   "outputs": [],
   "source": [
    "outliers = np.where(train_data.Spa > upper_bound, True,\n",
    "                    np.where(train_data.Spa < lower_bound, True, False))"
   ]
  },
  {
   "cell_type": "code",
   "execution_count": null,
   "metadata": {},
   "outputs": [],
   "source": [
    "train_data.loc[outliers, 'Spa']"
   ]
  },
  {
   "cell_type": "code",
   "execution_count": null,
   "metadata": {},
   "outputs": [],
   "source": [
    "train_data.select_dtypes(include=['int', 'float']).max() - train_data.select_dtypes(include=['int', 'float']).min()"
   ]
  },
  {
   "cell_type": "code",
   "execution_count": null,
   "metadata": {},
   "outputs": [],
   "source": [
    "train_data.isnull().sum().sort_values(ascending=True)"
   ]
  },
  {
   "cell_type": "markdown",
   "metadata": {},
   "source": [
    "### Winsorization <a id=\"winsorization\"></a>"
   ]
  },
  {
   "cell_type": "code",
   "execution_count": null,
   "metadata": {},
   "outputs": [],
   "source": [
    "# Imports\n",
    "from feature_engine.outliers import Winsorizer"
   ]
  },
  {
   "cell_type": "code",
   "execution_count": null,
   "metadata": {},
   "outputs": [],
   "source": [
    "winsorizer = Winsorizer(tail='both', capping_method='quantiles', )\n",
    "wins_df = winsorizer.fit_transform(data_num)"
   ]
  },
  {
   "cell_type": "code",
   "execution_count": null,
   "metadata": {},
   "outputs": [],
   "source": [
    "diagnostic_plots(data_num, 'ShoppingMall')"
   ]
  },
  {
   "cell_type": "code",
   "execution_count": null,
   "metadata": {},
   "outputs": [],
   "source": [
    "diagnostic_plots(wins_df, 'ShoppingMall')"
   ]
  },
  {
   "cell_type": "code",
   "execution_count": null,
   "metadata": {},
   "outputs": [],
   "source": [
    "winsorizer.left_tail_caps_"
   ]
  },
  {
   "cell_type": "code",
   "execution_count": null,
   "metadata": {},
   "outputs": [],
   "source": [
    "winsorizer.right_tail_caps_"
   ]
  },
  {
   "cell_type": "markdown",
   "metadata": {},
   "source": [
    "### Capping <a id=\"capping\"></a>"
   ]
  },
  {
   "cell_type": "code",
   "execution_count": null,
   "metadata": {},
   "outputs": [],
   "source": [
    "winsorizer_2 = Winsorizer(tail='both', capping_method='gaussian', fold=3)\n",
    "wins_df_2 = winsorizer_2.fit_transform(data_num)"
   ]
  },
  {
   "cell_type": "code",
   "execution_count": null,
   "metadata": {},
   "outputs": [],
   "source": [
    "diagnostic_plots(wins_df_2, 'ShoppingMall')"
   ]
  },
  {
   "cell_type": "code",
   "execution_count": null,
   "metadata": {},
   "outputs": [],
   "source": [
    "winsorizer_2.left_tail_caps_"
   ]
  },
  {
   "cell_type": "code",
   "execution_count": null,
   "metadata": {},
   "outputs": [],
   "source": [
    "winsorizer_2.right_tail_caps_"
   ]
  },
  {
   "cell_type": "markdown",
   "metadata": {},
   "source": [
    "## Feature Scaling <a id=\"scaling\"></a>"
   ]
  },
  {
   "cell_type": "markdown",
   "metadata": {},
   "source": [
    "### Standard Scaler <a id=\"standard_scaler\"></a>"
   ]
  },
  {
   "cell_type": "code",
   "execution_count": null,
   "metadata": {},
   "outputs": [],
   "source": [
    "# Imports\n",
    "from sklearn.preprocessing import StandardScaler"
   ]
  },
  {
   "cell_type": "code",
   "execution_count": null,
   "metadata": {},
   "outputs": [],
   "source": [
    "scaler = StandardScaler()\n",
    "scaler_df = scaler.fit_transform(data_num)\n",
    "scaler_df = pd.DataFrame(scaler_df, columns=scaler.get_feature_names_out())"
   ]
  },
  {
   "cell_type": "code",
   "execution_count": null,
   "metadata": {},
   "outputs": [],
   "source": [
    "diagnostic_plots(data_num, 'ShoppingMall')"
   ]
  },
  {
   "cell_type": "code",
   "execution_count": null,
   "metadata": {},
   "outputs": [],
   "source": [
    "diagnostic_plots(scaler_df, 'ShoppingMall')"
   ]
  },
  {
   "cell_type": "markdown",
   "metadata": {},
   "source": [
    "### Mean normalization <a id=\"mean_scaler\"></a>"
   ]
  },
  {
   "attachments": {
    "image.png": {
     "image/png": "[encoded data removed]"
    }
   },
   "cell_type": "markdown",
   "metadata": {},
   "source": [
    "![image.png](attachment:image.png)"
   ]
  },
  {
   "cell_type": "code",
   "execution_count": null,
   "metadata": {},
   "outputs": [],
   "source": [
    "from sklearn.preprocessing import StandardScaler, RobustScaler"
   ]
  },
  {
   "cell_type": "code",
   "execution_count": null,
   "metadata": {},
   "outputs": [],
   "source": [
    "scaler_mean = StandardScaler(with_mean=True, with_std=False)\n",
    "scaler_minmax = RobustScaler(with_centering=False, with_scaling=True, quantile_range=(0, 100))"
   ]
  },
  {
   "cell_type": "code",
   "execution_count": null,
   "metadata": {},
   "outputs": [],
   "source": [
    "scaler_mean.fit(data_num)\n",
    "scaler_minmax.fit(data_num)\n",
    "\n",
    "scaled = scaler_minmax.transform(scaler_mean.transform(data_num))\n",
    "scaled_df = pd.DataFrame(scaled, columns=scaler_minmax.get_feature_names_out())"
   ]
  },
  {
   "cell_type": "code",
   "execution_count": null,
   "metadata": {},
   "outputs": [],
   "source": [
    "diagnostic_plots(scaled_df, 'VRDeck')"
   ]
  },
  {
   "cell_type": "markdown",
   "metadata": {},
   "source": [
    "### Min-max scaling <a id=\"min_max_scaler\"></a>"
   ]
  },
  {
   "attachments": {
    "image.png": {
     "image/png": "[encoded data removed]"
    }
   },
   "cell_type": "markdown",
   "metadata": {},
   "source": [
    "![image.png](attachment:image.png)"
   ]
  },
  {
   "cell_type": "code",
   "execution_count": null,
   "metadata": {},
   "outputs": [],
   "source": [
    "# Imports\n",
    "from sklearn.preprocessing import MinMaxScaler"
   ]
  },
  {
   "cell_type": "code",
   "execution_count": null,
   "metadata": {},
   "outputs": [],
   "source": [
    "min_max_scaler = MinMaxScaler()\n",
    "min_max_df = min_max_scaler.fit_transform(data_num)\n",
    "min_max_df = pd.DataFrame(min_max_df, columns=min_max_scaler.get_feature_names_out())"
   ]
  },
  {
   "cell_type": "code",
   "execution_count": null,
   "metadata": {},
   "outputs": [],
   "source": [
    "diagnostic_plots(min_max_df, 'VRDeck')"
   ]
  },
  {
   "cell_type": "markdown",
   "metadata": {},
   "source": [
    "### Absolute scaling <a id=\"absolute_scaler\"></a>"
   ]
  },
  {
   "attachments": {
    "image.png": {
     "image/png": "[encoded data removed]"
    }
   },
   "cell_type": "markdown",
   "metadata": {},
   "source": [
    "![image.png](attachment:image.png)"
   ]
  },
  {
   "cell_type": "code",
   "execution_count": null,
   "metadata": {},
   "outputs": [],
   "source": [
    "# Imports\n",
    "from sklearn.preprocessing import MaxAbsScaler"
   ]
  },
  {
   "cell_type": "code",
   "execution_count": null,
   "metadata": {},
   "outputs": [],
   "source": [
    "absolute_scaler = MaxAbsScaler()\n",
    "absolute_df = absolute_scaler.fit_transform(data_num)\n",
    "absolute_df = pd.DataFrame(absolute_df, columns=absolute_scaler.get_feature_names_out())"
   ]
  },
  {
   "cell_type": "code",
   "execution_count": null,
   "metadata": {},
   "outputs": [],
   "source": [
    "diagnostic_plots(absolute_df, 'VRDeck')"
   ]
  },
  {
   "cell_type": "markdown",
   "metadata": {},
   "source": [
    "## Mathematical computations <a id=\"math\"></a>"
   ]
  },
  {
   "cell_type": "markdown",
   "metadata": {},
   "source": [
    "### Statistical operations <a id=\"statistical\"></a>"
   ]
  },
  {
   "cell_type": "code",
   "execution_count": null,
   "metadata": {},
   "outputs": [],
   "source": [
    "df_t = data_num.agg(['sum','prod','mean','std', 'max', 'min'], axis='columns')\n",
    "df_t"
   ]
  },
  {
   "cell_type": "code",
   "execution_count": null,
   "metadata": {},
   "outputs": [],
   "source": [
    "y.index = df_t.index\n",
    "\n",
    "df_t_concat = pd.concat([df_t, y],axis=1)\n",
    "\n",
    "plt.figure(figsize=(10,3))\n",
    "plt.subplot(1, 2, 1)\n",
    "sns.violinplot(x=\"Transported\", y=\"std\", data=df_t_concat)\n",
    "plt.subplot(1, 2, 2)\n",
    "sns.violinplot(x=\"Transported\", y=\"mean\", data=df_t_concat)\n",
    "plt.show()"
   ]
  },
  {
   "cell_type": "markdown",
   "metadata": {},
   "source": [
    "### Polynomial expansion <a id=\"polynomial\"></a>"
   ]
  },
  {
   "cell_type": "code",
   "execution_count": null,
   "metadata": {},
   "outputs": [],
   "source": [
    "from sklearn.preprocessing import PolynomialFeatures"
   ]
  },
  {
   "cell_type": "code",
   "execution_count": null,
   "metadata": {},
   "outputs": [],
   "source": [
    "poly = PolynomialFeatures(degree=3, interaction_only=False,include_bias=False)\n",
    "\n",
    "poly_df = poly.fit_transform(data_num[['Spa', 'VRDeck', 'RoomService']])\n",
    "poly_df = pd.DataFrame(poly_df, columns=poly.get_feature_names_out())"
   ]
  },
  {
   "cell_type": "code",
   "execution_count": null,
   "metadata": {},
   "outputs": [],
   "source": [
    "poly_df"
   ]
  },
  {
   "cell_type": "code",
   "execution_count": null,
   "metadata": {},
   "outputs": [],
   "source": [
    "def plot_features(df, target):\n",
    "    nb_rows = 5\n",
    "    nb_cols = 4\n",
    "    fig, axs = plt.subplots(nb_rows, nb_cols, figsize=(12, 12))\n",
    "    plt.subplots_adjust(wspace=None, hspace=0.4)\n",
    "    n = 0\n",
    "    for i in range(0, nb_rows):\n",
    "        for j in range(0, nb_cols):\n",
    "            if n!=19:\n",
    "                axs[i, j].scatter(df[df.columns[n]], target)\n",
    "                axs[i, j].set_title(df.columns[n])\n",
    "                n += 1\n",
    "    plt.show()"
   ]
  },
  {
   "cell_type": "code",
   "execution_count": null,
   "metadata": {},
   "outputs": [],
   "source": [
    "plot_features(poly_df, y)"
   ]
  },
  {
   "cell_type": "markdown",
   "metadata": {},
   "source": [
    "### Deriving new features with decision trees <a id=\"new_feat_tree\"></a>"
   ]
  },
  {
   "cell_type": "code",
   "execution_count": null,
   "metadata": {},
   "outputs": [],
   "source": [
    "from sklearn.tree import DecisionTreeClassifier\n",
    "from sklearn.model_selection import GridSearchCV"
   ]
  },
  {
   "cell_type": "code",
   "execution_count": null,
   "metadata": {},
   "outputs": [],
   "source": [
    "param_grid = {'max_depth': [3, 4, None]}\n",
    "\n",
    "tree_model = GridSearchCV(DecisionTreeClassifier(random_state=0),\n",
    "                          cv = 5,\n",
    "                          scoring = 'accuracy',\n",
    "                          param_grid = param_grid)"
   ]
  },
  {
   "cell_type": "code",
   "execution_count": null,
   "metadata": {},
   "outputs": [],
   "source": [
    "tree_model.fit(data_num[['Spa', 'VRDeck', 'RoomService']], y)"
   ]
  },
  {
   "cell_type": "code",
   "execution_count": null,
   "metadata": {},
   "outputs": [],
   "source": [
    "data_num['new_feat'] = tree_model.predict(data_num[['Spa', 'VRDeck', 'RoomService']])"
   ]
  },
  {
   "cell_type": "code",
   "execution_count": null,
   "metadata": {},
   "outputs": [],
   "source": [
    "pd.concat([data_num, y], axis=1)"
   ]
  },
  {
   "cell_type": "code",
   "execution_count": null,
   "metadata": {},
   "outputs": [],
   "source": [
    "plt.scatter(data_num['new_feat'], y)\n",
    "plt.ylabel('Transported')\n",
    "plt.xlabel('new_feat')"
   ]
  },
  {
   "cell_type": "markdown",
   "metadata": {},
   "source": [
    "### Principal Component Analysis <a id=\"pca\"></a>"
   ]
  },
  {
   "cell_type": "code",
   "execution_count": null,
   "metadata": {},
   "outputs": [],
   "source": [
    "# Imports\n",
    "from sklearn.decomposition import PCA"
   ]
  },
  {
   "cell_type": "code",
   "execution_count": null,
   "metadata": {},
   "outputs": [],
   "source": [
    "pca = PCA(n_components=None)\n",
    "\n",
    "pca_df = pca.fit_transform(data_num)\n",
    "pca_df = pd.DataFrame(pca_df, columns=pca.get_feature_names_out())"
   ]
  },
  {
   "cell_type": "code",
   "execution_count": null,
   "metadata": {},
   "outputs": [],
   "source": [
    "plt.plot(pca.explained_variance_ratio_)\n",
    "plt.title('Percentage of Variance Explained')\n",
    "plt.xlabel('Number of Components')\n",
    "plt.ylabel('Percentage of Variance Explained')"
   ]
  },
  {
   "cell_type": "code",
   "execution_count": null,
   "metadata": {},
   "outputs": [],
   "source": [
    "pca_df"
   ]
  },
  {
   "cell_type": "code",
   "execution_count": null,
   "metadata": {},
   "outputs": [],
   "source": [
    "diagnostic_plots(pca_df, 'pca4')"
   ]
  },
  {
   "cell_type": "code",
   "execution_count": null,
   "metadata": {},
   "outputs": [],
   "source": []
  }
 ],
 "metadata": {
  "kernelspec": {
   "display_name": ".venv",
   "language": "python",
   "name": "python3"
  },
  "language_info": {
   "codemirror_mode": {
    "name": "ipython",
    "version": 3
   },
   "file_extension": ".py",
   "mimetype": "text/x-python",
   "name": "python",
   "nbconvert_exporter": "python",
   "pygments_lexer": "ipython3",
   "version": "3.10.0"
  }
 },
 "nbformat": 4,
 "nbformat_minor": 2
}
