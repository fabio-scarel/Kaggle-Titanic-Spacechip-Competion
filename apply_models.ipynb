{
 "cells": [
  {
   "cell_type": "markdown",
   "id": "07caa507",
   "metadata": {},
   "source": [
    "# Imports"
   ]
  },
  {
   "cell_type": "code",
   "execution_count": 56,
   "id": "0ef99685",
   "metadata": {},
   "outputs": [],
   "source": [
    "# Standard library imports\n",
    "import joblib\n",
    "\n",
    "# Third-party imports\n",
    "import numpy as np\n",
    "import pandas as pd\n",
    "import seaborn as sns\n",
    "import matplotlib.pyplot as plt\n",
    "from scipy.stats import boxcox, randint, uniform, reciprocal, expon\n",
    "\n",
    "# TensorFlow and Keras imports\n",
    "import tensorflow as tf\n",
    "from tensorflow.keras.models import Sequential\n",
    "from tensorflow.keras.layers import Dense\n",
    "\n",
    "# Scikit-learn imports\n",
    "from sklearn.base import BaseEstimator, TransformerMixin\n",
    "from sklearn.cluster import KMeans\n",
    "from sklearn.compose import ColumnTransformer, make_column_selector, make_column_transformer\n",
    "from sklearn.decomposition import PCA\n",
    "from sklearn.ensemble import GradientBoostingClassifier, RandomForestClassifier, StackingClassifier\n",
    "from sklearn.feature_selection import SelectFromModel\n",
    "from sklearn.impute import SimpleImputer\n",
    "from sklearn.linear_model import LogisticRegression\n",
    "from sklearn.metrics import accuracy_score, roc_auc_score, mean_squared_error\n",
    "from sklearn.model_selection import (train_test_split, StratifiedShuffleSplit,\n",
    "                                     GridSearchCV, cross_val_score, RandomizedSearchCV)\n",
    "from sklearn.pipeline import Pipeline, make_pipeline\n",
    "from sklearn.preprocessing import (FunctionTransformer, LabelEncoder, MinMaxScaler,\n",
    "                                   Normalizer, OneHotEncoder, OrdinalEncoder, PolynomialFeatures,\n",
    "                                   PowerTransformer, QuantileTransformer, StandardScaler)\n",
    "from sklearn.tree import DecisionTreeClassifier\n",
    "from sklearn.svm import SVC"
   ]
  },
  {
   "cell_type": "markdown",
   "id": "b5dbf659",
   "metadata": {},
   "source": [
    "# Reading the data"
   ]
  },
  {
   "cell_type": "code",
   "execution_count": 57,
   "id": "e362b6f3",
   "metadata": {},
   "outputs": [],
   "source": [
    "from pathlib import Path"
   ]
  },
  {
   "cell_type": "code",
   "execution_count": 58,
   "id": "4b9b7c1e",
   "metadata": {},
   "outputs": [],
   "source": [
    "path = (Path('..') / 'Kaggle-Titanic-Spacechip-Competion')"
   ]
  },
  {
   "cell_type": "code",
   "execution_count": 59,
   "id": "4405dcad",
   "metadata": {},
   "outputs": [],
   "source": [
    "train_data = pd.read_csv(path / 'train.csv')\n",
    "test_data = pd.read_csv(path / 'test.csv')"
   ]
  },
  {
   "cell_type": "code",
   "execution_count": 60,
   "id": "fd04f3f7",
   "metadata": {},
   "outputs": [
    {
     "data": {
      "application/vnd.microsoft.datawrangler.viewer.v0+json": {
       "columns": [
        {
         "name": "index",
         "rawType": "int64",
         "type": "integer"
        },
        {
         "name": "PassengerId",
         "rawType": "object",
         "type": "string"
        },
        {
         "name": "HomePlanet",
         "rawType": "object",
         "type": "unknown"
        },
        {
         "name": "CryoSleep",
         "rawType": "object",
         "type": "unknown"
        },
        {
         "name": "Cabin",
         "rawType": "object",
         "type": "unknown"
        },
        {
         "name": "Destination",
         "rawType": "object",
         "type": "unknown"
        },
        {
         "name": "Age",
         "rawType": "float64",
         "type": "float"
        },
        {
         "name": "VIP",
         "rawType": "object",
         "type": "unknown"
        },
        {
         "name": "RoomService",
         "rawType": "float64",
         "type": "float"
        },
        {
         "name": "FoodCourt",
         "rawType": "float64",
         "type": "float"
        },
        {
         "name": "ShoppingMall",
         "rawType": "float64",
         "type": "float"
        },
        {
         "name": "Spa",
         "rawType": "float64",
         "type": "float"
        },
        {
         "name": "VRDeck",
         "rawType": "float64",
         "type": "float"
        },
        {
         "name": "Name",
         "rawType": "object",
         "type": "unknown"
        }
       ],
       "conversionMethod": "pd.DataFrame",
       "ref": "e11fca39-3295-4e01-b522-0ffd3c262adf",
       "rows": [
        [
         "0",
         "0013_01",
         "Earth",
         "True",
         "G/3/S",
         "TRAPPIST-1e",
         "27.0",
         "False",
         "0.0",
         "0.0",
         "0.0",
         "0.0",
         "0.0",
         "Nelly Carsoning"
        ],
        [
         "1",
         "0018_01",
         "Earth",
         "False",
         "F/4/S",
         "TRAPPIST-1e",
         "19.0",
         "False",
         "0.0",
         "9.0",
         "0.0",
         "2823.0",
         "0.0",
         "Lerome Peckers"
        ],
        [
         "2",
         "0019_01",
         "Europa",
         "True",
         "C/0/S",
         "55 Cancri e",
         "31.0",
         "False",
         "0.0",
         "0.0",
         "0.0",
         "0.0",
         "0.0",
         "Sabih Unhearfus"
        ],
        [
         "3",
         "0021_01",
         "Europa",
         "False",
         "C/1/S",
         "TRAPPIST-1e",
         "38.0",
         "False",
         "0.0",
         "6652.0",
         "0.0",
         "181.0",
         "585.0",
         "Meratz Caltilter"
        ],
        [
         "4",
         "0023_01",
         "Earth",
         "False",
         "F/5/S",
         "TRAPPIST-1e",
         "20.0",
         "False",
         "10.0",
         "0.0",
         "635.0",
         "0.0",
         "0.0",
         "Brence Harperez"
        ],
        [
         "5",
         "0027_01",
         "Earth",
         "False",
         "F/7/P",
         "TRAPPIST-1e",
         "31.0",
         "False",
         "0.0",
         "1615.0",
         "263.0",
         "113.0",
         "60.0",
         "Karlen Ricks"
        ],
        [
         "6",
         "0029_01",
         "Europa",
         "True",
         "B/2/P",
         "55 Cancri e",
         "21.0",
         "False",
         "0.0",
         null,
         "0.0",
         "0.0",
         "0.0",
         "Aldah Ainserfle"
        ],
        [
         "7",
         "0032_01",
         "Europa",
         "True",
         "D/0/S",
         "TRAPPIST-1e",
         "20.0",
         "False",
         "0.0",
         "0.0",
         "0.0",
         "0.0",
         "0.0",
         "Acrabi Pringry"
        ],
        [
         "8",
         "0032_02",
         "Europa",
         "True",
         "D/0/S",
         "55 Cancri e",
         "23.0",
         "False",
         "0.0",
         "0.0",
         "0.0",
         "0.0",
         "0.0",
         "Dhena Pringry"
        ],
        [
         "9",
         "0033_01",
         "Earth",
         "False",
         "F/7/S",
         "55 Cancri e",
         "24.0",
         "False",
         "0.0",
         "639.0",
         "0.0",
         "0.0",
         "0.0",
         "Eliana Delazarson"
        ],
        [
         "10",
         "0037_01",
         "Earth",
         "False",
         "F/9/S",
         "TRAPPIST-1e",
         "19.0",
         "False",
         "339.0",
         "3.0",
         "136.0",
         "237.0",
         "0.0",
         "Vivia Rickson"
        ],
        [
         "11",
         "0040_01",
         "Europa",
         "False",
         "D/2/P",
         "TRAPPIST-1e",
         "45.0",
         "False",
         "932.0",
         "74.0",
         null,
         "7.0",
         "1010.0",
         "Antino Pinoffent"
        ],
        [
         "12",
         "0040_02",
         "Europa",
         "False",
         "D/2/P",
         "TRAPPIST-1e",
         "44.0",
         "False",
         "0.0",
         "1561.0",
         "0.0",
         "14.0",
         "224.0",
         "Jihda Pinoffent"
        ],
        [
         "13",
         "0042_01",
         "Mars",
         "True",
         "E/0/P",
         "TRAPPIST-1e",
         "46.0",
         "False",
         "0.0",
         "0.0",
         "0.0",
         "0.0",
         "0.0",
         "Hamus Frité"
        ],
        [
         "14",
         "0046_01",
         "Earth",
         "False",
         "G/4/P",
         "TRAPPIST-1e",
         "21.0",
         "False",
         "0.0",
         "0.0",
         "0.0",
         "1687.0",
         "92.0",
         "Neilda Powery"
        ],
        [
         "15",
         "0046_02",
         "Earth",
         "False",
         "F/11/P",
         "TRAPPIST-1e",
         "27.0",
         "False",
         "0.0",
         "0.0",
         "0.0",
         "903.0",
         null,
         "Glene Powery"
        ],
        [
         "16",
         "0046_03",
         "Earth",
         "False",
         "F/11/P",
         "TRAPPIST-1e",
         "20.0",
         "False",
         "2.0",
         "12.0",
         "253.0",
         "457.0",
         "690.0",
         "Joanny Powery"
        ],
        [
         "17",
         "0047_01",
         "Europa",
         "True",
         "B/0/S",
         "TRAPPIST-1e",
         "44.0",
         "False",
         "0.0",
         "0.0",
         "0.0",
         "0.0",
         "0.0",
         "Winonon Prucerod"
        ],
        [
         "18",
         "0047_02",
         "Europa",
         "False",
         null,
         "TRAPPIST-1e",
         "29.0",
         "False",
         "0.0",
         "7708.0",
         "243.0",
         "569.0",
         "343.0",
         "Muons Prucerod"
        ],
        [
         "19",
         "0047_03",
         "Europa",
         "False",
         "B/0/S",
         "TRAPPIST-1e",
         "40.0",
         "False",
         "26.0",
         "1925.0",
         "8.0",
         "3144.0",
         "63.0",
         null
        ],
        [
         "20",
         "0048_01",
         "Earth",
         "False",
         "G/5/S",
         "TRAPPIST-1e",
         "30.0",
         "False",
         "0.0",
         "878.0",
         "26.0",
         "3.0",
         "0.0",
         "Tyle Deckerry"
        ],
        [
         "21",
         "0049_01",
         "Earth",
         "False",
         "E/1/P",
         "TRAPPIST-1e",
         "14.0",
         "False",
         null,
         "0.0",
         "0.0",
         "1609.0",
         "0.0",
         "Doria Flynney"
        ],
        [
         "22",
         "0054_01",
         "Europa",
         "True",
         "B/4/P",
         "55 Cancri e",
         "31.0",
         "False",
         "0.0",
         "0.0",
         "0.0",
         "0.0",
         "0.0",
         "Algedia Viouster"
        ],
        [
         "23",
         "0054_02",
         "Europa",
         "False",
         "B/4/P",
         "55 Cancri e",
         "27.0",
         "False",
         "0.0",
         "6977.0",
         "0.0",
         "4.0",
         "1235.0",
         "Alteron Viouster"
        ],
        [
         "24",
         "0054_03",
         "Europa",
         "False",
         "B/4/P",
         "55 Cancri e",
         "66.0",
         "False",
         "39.0",
         "6452.0",
         "0.0",
         "1409.0",
         "155.0",
         "Winon Viouster"
        ],
        [
         "25",
         "0055_01",
         "Earth",
         "False",
         "G/5/P",
         "TRAPPIST-1e",
         "24.0",
         "False",
         "1784.0",
         "8.0",
         "18.0",
         "18.0",
         "0.0",
         "Brence Frederry"
        ],
        [
         "26",
         "0057_01",
         "Europa",
         "False",
         "C/1/P",
         "55 Cancri e",
         "19.0",
         "False",
         "293.0",
         "3495.0",
         "5273.0",
         "118.0",
         "422.0",
         "Gatrin Windend"
        ],
        [
         "27",
         "0059_01",
         "Earth",
         "True",
         "E/2/P",
         "TRAPPIST-1e",
         "36.0",
         "False",
         "0.0",
         "0.0",
         "0.0",
         "0.0",
         "0.0",
         "Janne Carvis"
        ],
        [
         "28",
         "0060_01",
         "Earth",
         "False",
         "F/12/P",
         "TRAPPIST-1e",
         "21.0",
         "False",
         "0.0",
         "619.0",
         "12.0",
         "3.0",
         "0.0",
         "Fanna Ashipeck"
        ],
        [
         "29",
         "0063_01",
         "Earth",
         "True",
         "G/8/S",
         "55 Cancri e",
         "18.0",
         "False",
         "0.0",
         "0.0",
         "0.0",
         "0.0",
         "0.0",
         "Elene Daughessey"
        ],
        [
         "30",
         "0065_01",
         "Earth",
         "True",
         "G/9/S",
         "TRAPPIST-1e",
         "26.0",
         "False",
         "0.0",
         "0.0",
         "0.0",
         "0.0",
         "0.0",
         "Monald Rushorney"
        ],
        [
         "31",
         "0075_01",
         "Earth",
         "False",
         "G/11/S",
         "TRAPPIST-1e",
         "19.0",
         "False",
         "598.0",
         "0.0",
         "30.0",
         "0.0",
         "0.0",
         "Shally Jimes"
        ],
        [
         "32",
         "0079_01",
         "Earth",
         "True",
         "G/12/S",
         "TRAPPIST-1e",
         "48.0",
         "False",
         "0.0",
         "0.0",
         "0.0",
         "0.0",
         "0.0",
         "Verney Sullones"
        ],
        [
         "33",
         "0080_01",
         "Earth",
         "False",
         "G/7/P",
         "TRAPPIST-1e",
         "23.0",
         "False",
         "14.0",
         "870.0",
         "0.0",
         "0.0",
         "23.0",
         "Wandy Llobsoney"
        ],
        [
         "34",
         "0083_01",
         "Earth",
         "False",
         "G/8/P",
         "TRAPPIST-1e",
         "24.0",
         "False",
         "483.0",
         "0.0",
         "87.0",
         "214.0",
         "0.0",
         "Lilasa Barris"
        ],
        [
         "35",
         "0087_01",
         "Earth",
         "False",
         "E/3/P",
         "TRAPPIST-1e",
         "19.0",
         "False",
         "0.0",
         "20.0",
         "135.0",
         "265.0",
         "367.0",
         "Meremy Jarvey"
        ],
        [
         "36",
         "0089_01",
         "Mars",
         "True",
         "F/19/S",
         "TRAPPIST-1e",
         "24.0",
         "False",
         "0.0",
         "0.0",
         "0.0",
         "0.0",
         "0.0",
         "Ors Cha"
        ],
        [
         "37",
         "0093_01",
         "Earth",
         "False",
         "G/10/P",
         "TRAPPIST-1e",
         "27.0",
         "False",
         "66.0",
         "1736.0",
         "0.0",
         "0.0",
         "15.0",
         "Krisa Dukertyler"
        ],
        [
         "38",
         "0094_01",
         "Earth",
         "True",
         "G/17/S",
         "TRAPPIST-1e",
         "6.0",
         "False",
         null,
         "0.0",
         "0.0",
         "0.0",
         "0.0",
         "Jaye Santantines"
        ],
        [
         "39",
         "0094_02",
         "Earth",
         "False",
         "F/21/S",
         "TRAPPIST-1e",
         "33.0",
         "False",
         "0.0",
         "0.0",
         "0.0",
         "866.0",
         "0.0",
         "Terta Santantines"
        ],
        [
         "40",
         "0095_01",
         "Earth",
         "False",
         "F/18/P",
         "PSO J318.5-22",
         "23.0",
         "False",
         "0.0",
         "0.0",
         "1235.0",
         "0.0",
         "0.0",
         "Toddie Benderez"
        ],
        [
         "41",
         "0096_01",
         "Earth",
         "False",
         "F/22/S",
         "PSO J318.5-22",
         "30.0",
         "False",
         "1.0",
         "0.0",
         "1585.0",
         "0.0",
         "484.0",
         "Leenny Swanardy"
        ],
        [
         "42",
         "0100_01",
         "Earth",
         "False",
         "G/13/P",
         "TRAPPIST-1e",
         null,
         null,
         "0.0",
         "17.0",
         "997.0",
         "0.0",
         "0.0",
         "Dary Cochrisons"
        ],
        [
         "43",
         "0100_02",
         "Earth",
         "False",
         "G/13/P",
         "TRAPPIST-1e",
         "1.0",
         "False",
         "0.0",
         "0.0",
         "0.0",
         "0.0",
         "0.0",
         "Mael Cochrisons"
        ],
        [
         "44",
         "0104_01",
         "Earth",
         "False",
         "F/25/S",
         "TRAPPIST-1e",
         "20.0",
         "False",
         "1.0",
         "0.0",
         "0.0",
         "599.0",
         "0.0",
         "Alene Rochan"
        ],
        [
         "45",
         "0106_01",
         "Earth",
         "True",
         "F/26/S",
         "TRAPPIST-1e",
         "17.0",
         "False",
         "0.0",
         "0.0",
         "0.0",
         "0.0",
         "0.0",
         "Therly Puckenton"
        ],
        [
         "46",
         "0109_01",
         "Earth",
         "False",
         "F/22/P",
         "TRAPPIST-1e",
         "34.0",
         "False",
         "0.0",
         "0.0",
         "39.0",
         "1.0",
         "556.0",
         "Tonald Wolferton"
        ],
        [
         "47",
         "0117_01",
         "Earth",
         "False",
         "E/4/P",
         "PSO J318.5-22",
         "24.0",
         "False",
         "0.0",
         "22.0",
         "82.0",
         "0.0",
         "686.0",
         "Megany Ewiseston"
        ],
        [
         "48",
         "0118_01",
         "Earth",
         "False",
         "G/14/P",
         "TRAPPIST-1e",
         "29.0",
         "False",
         "14.0",
         "869.0",
         null,
         "1.0",
         "0.0",
         "Troyce Moodmandez"
        ],
        [
         "49",
         "0121_01",
         "Earth",
         "False",
         "F/26/P",
         "TRAPPIST-1e",
         "20.0",
         "False",
         "1037.0",
         "1.0",
         "2.0",
         "0.0",
         "1576.0",
         "Kendy Mayson"
        ]
       ],
       "shape": {
        "columns": 13,
        "rows": 4277
       }
      },
      "text/html": [
       "<div>\n",
       "<style scoped>\n",
       "    .dataframe tbody tr th:only-of-type {\n",
       "        vertical-align: middle;\n",
       "    }\n",
       "\n",
       "    .dataframe tbody tr th {\n",
       "        vertical-align: top;\n",
       "    }\n",
       "\n",
       "    .dataframe thead th {\n",
       "        text-align: right;\n",
       "    }\n",
       "</style>\n",
       "<table border=\"1\" class=\"dataframe\">\n",
       "  <thead>\n",
       "    <tr style=\"text-align: right;\">\n",
       "      <th></th>\n",
       "      <th>PassengerId</th>\n",
       "      <th>HomePlanet</th>\n",
       "      <th>CryoSleep</th>\n",
       "      <th>Cabin</th>\n",
       "      <th>Destination</th>\n",
       "      <th>Age</th>\n",
       "      <th>VIP</th>\n",
       "      <th>RoomService</th>\n",
       "      <th>FoodCourt</th>\n",
       "      <th>ShoppingMall</th>\n",
       "      <th>Spa</th>\n",
       "      <th>VRDeck</th>\n",
       "      <th>Name</th>\n",
       "    </tr>\n",
       "  </thead>\n",
       "  <tbody>\n",
       "    <tr>\n",
       "      <th>0</th>\n",
       "      <td>0013_01</td>\n",
       "      <td>Earth</td>\n",
       "      <td>True</td>\n",
       "      <td>G/3/S</td>\n",
       "      <td>TRAPPIST-1e</td>\n",
       "      <td>27.0</td>\n",
       "      <td>False</td>\n",
       "      <td>0.0</td>\n",
       "      <td>0.0</td>\n",
       "      <td>0.0</td>\n",
       "      <td>0.0</td>\n",
       "      <td>0.0</td>\n",
       "      <td>Nelly Carsoning</td>\n",
       "    </tr>\n",
       "    <tr>\n",
       "      <th>1</th>\n",
       "      <td>0018_01</td>\n",
       "      <td>Earth</td>\n",
       "      <td>False</td>\n",
       "      <td>F/4/S</td>\n",
       "      <td>TRAPPIST-1e</td>\n",
       "      <td>19.0</td>\n",
       "      <td>False</td>\n",
       "      <td>0.0</td>\n",
       "      <td>9.0</td>\n",
       "      <td>0.0</td>\n",
       "      <td>2823.0</td>\n",
       "      <td>0.0</td>\n",
       "      <td>Lerome Peckers</td>\n",
       "    </tr>\n",
       "    <tr>\n",
       "      <th>2</th>\n",
       "      <td>0019_01</td>\n",
       "      <td>Europa</td>\n",
       "      <td>True</td>\n",
       "      <td>C/0/S</td>\n",
       "      <td>55 Cancri e</td>\n",
       "      <td>31.0</td>\n",
       "      <td>False</td>\n",
       "      <td>0.0</td>\n",
       "      <td>0.0</td>\n",
       "      <td>0.0</td>\n",
       "      <td>0.0</td>\n",
       "      <td>0.0</td>\n",
       "      <td>Sabih Unhearfus</td>\n",
       "    </tr>\n",
       "    <tr>\n",
       "      <th>3</th>\n",
       "      <td>0021_01</td>\n",
       "      <td>Europa</td>\n",
       "      <td>False</td>\n",
       "      <td>C/1/S</td>\n",
       "      <td>TRAPPIST-1e</td>\n",
       "      <td>38.0</td>\n",
       "      <td>False</td>\n",
       "      <td>0.0</td>\n",
       "      <td>6652.0</td>\n",
       "      <td>0.0</td>\n",
       "      <td>181.0</td>\n",
       "      <td>585.0</td>\n",
       "      <td>Meratz Caltilter</td>\n",
       "    </tr>\n",
       "    <tr>\n",
       "      <th>4</th>\n",
       "      <td>0023_01</td>\n",
       "      <td>Earth</td>\n",
       "      <td>False</td>\n",
       "      <td>F/5/S</td>\n",
       "      <td>TRAPPIST-1e</td>\n",
       "      <td>20.0</td>\n",
       "      <td>False</td>\n",
       "      <td>10.0</td>\n",
       "      <td>0.0</td>\n",
       "      <td>635.0</td>\n",
       "      <td>0.0</td>\n",
       "      <td>0.0</td>\n",
       "      <td>Brence Harperez</td>\n",
       "    </tr>\n",
       "    <tr>\n",
       "      <th>...</th>\n",
       "      <td>...</td>\n",
       "      <td>...</td>\n",
       "      <td>...</td>\n",
       "      <td>...</td>\n",
       "      <td>...</td>\n",
       "      <td>...</td>\n",
       "      <td>...</td>\n",
       "      <td>...</td>\n",
       "      <td>...</td>\n",
       "      <td>...</td>\n",
       "      <td>...</td>\n",
       "      <td>...</td>\n",
       "      <td>...</td>\n",
       "    </tr>\n",
       "    <tr>\n",
       "      <th>4272</th>\n",
       "      <td>9266_02</td>\n",
       "      <td>Earth</td>\n",
       "      <td>True</td>\n",
       "      <td>G/1496/S</td>\n",
       "      <td>TRAPPIST-1e</td>\n",
       "      <td>34.0</td>\n",
       "      <td>False</td>\n",
       "      <td>0.0</td>\n",
       "      <td>0.0</td>\n",
       "      <td>0.0</td>\n",
       "      <td>0.0</td>\n",
       "      <td>0.0</td>\n",
       "      <td>Jeron Peter</td>\n",
       "    </tr>\n",
       "    <tr>\n",
       "      <th>4273</th>\n",
       "      <td>9269_01</td>\n",
       "      <td>Earth</td>\n",
       "      <td>False</td>\n",
       "      <td>NaN</td>\n",
       "      <td>TRAPPIST-1e</td>\n",
       "      <td>42.0</td>\n",
       "      <td>False</td>\n",
       "      <td>0.0</td>\n",
       "      <td>847.0</td>\n",
       "      <td>17.0</td>\n",
       "      <td>10.0</td>\n",
       "      <td>144.0</td>\n",
       "      <td>Matty Scheron</td>\n",
       "    </tr>\n",
       "    <tr>\n",
       "      <th>4274</th>\n",
       "      <td>9271_01</td>\n",
       "      <td>Mars</td>\n",
       "      <td>True</td>\n",
       "      <td>D/296/P</td>\n",
       "      <td>55 Cancri e</td>\n",
       "      <td>NaN</td>\n",
       "      <td>False</td>\n",
       "      <td>0.0</td>\n",
       "      <td>0.0</td>\n",
       "      <td>0.0</td>\n",
       "      <td>0.0</td>\n",
       "      <td>0.0</td>\n",
       "      <td>Jayrin Pore</td>\n",
       "    </tr>\n",
       "    <tr>\n",
       "      <th>4275</th>\n",
       "      <td>9273_01</td>\n",
       "      <td>Europa</td>\n",
       "      <td>False</td>\n",
       "      <td>D/297/P</td>\n",
       "      <td>NaN</td>\n",
       "      <td>NaN</td>\n",
       "      <td>False</td>\n",
       "      <td>0.0</td>\n",
       "      <td>2680.0</td>\n",
       "      <td>0.0</td>\n",
       "      <td>0.0</td>\n",
       "      <td>523.0</td>\n",
       "      <td>Kitakan Conale</td>\n",
       "    </tr>\n",
       "    <tr>\n",
       "      <th>4276</th>\n",
       "      <td>9277_01</td>\n",
       "      <td>Earth</td>\n",
       "      <td>True</td>\n",
       "      <td>G/1498/S</td>\n",
       "      <td>PSO J318.5-22</td>\n",
       "      <td>43.0</td>\n",
       "      <td>False</td>\n",
       "      <td>0.0</td>\n",
       "      <td>0.0</td>\n",
       "      <td>0.0</td>\n",
       "      <td>0.0</td>\n",
       "      <td>0.0</td>\n",
       "      <td>Lilace Leonzaley</td>\n",
       "    </tr>\n",
       "  </tbody>\n",
       "</table>\n",
       "<p>4277 rows × 13 columns</p>\n",
       "</div>"
      ],
      "text/plain": [
       "     PassengerId HomePlanet CryoSleep     Cabin    Destination   Age    VIP  \\\n",
       "0        0013_01      Earth      True     G/3/S    TRAPPIST-1e  27.0  False   \n",
       "1        0018_01      Earth     False     F/4/S    TRAPPIST-1e  19.0  False   \n",
       "2        0019_01     Europa      True     C/0/S    55 Cancri e  31.0  False   \n",
       "3        0021_01     Europa     False     C/1/S    TRAPPIST-1e  38.0  False   \n",
       "4        0023_01      Earth     False     F/5/S    TRAPPIST-1e  20.0  False   \n",
       "...          ...        ...       ...       ...            ...   ...    ...   \n",
       "4272     9266_02      Earth      True  G/1496/S    TRAPPIST-1e  34.0  False   \n",
       "4273     9269_01      Earth     False       NaN    TRAPPIST-1e  42.0  False   \n",
       "4274     9271_01       Mars      True   D/296/P    55 Cancri e   NaN  False   \n",
       "4275     9273_01     Europa     False   D/297/P            NaN   NaN  False   \n",
       "4276     9277_01      Earth      True  G/1498/S  PSO J318.5-22  43.0  False   \n",
       "\n",
       "      RoomService  FoodCourt  ShoppingMall     Spa  VRDeck              Name  \n",
       "0             0.0        0.0           0.0     0.0     0.0   Nelly Carsoning  \n",
       "1             0.0        9.0           0.0  2823.0     0.0    Lerome Peckers  \n",
       "2             0.0        0.0           0.0     0.0     0.0   Sabih Unhearfus  \n",
       "3             0.0     6652.0           0.0   181.0   585.0  Meratz Caltilter  \n",
       "4            10.0        0.0         635.0     0.0     0.0   Brence Harperez  \n",
       "...           ...        ...           ...     ...     ...               ...  \n",
       "4272          0.0        0.0           0.0     0.0     0.0       Jeron Peter  \n",
       "4273          0.0      847.0          17.0    10.0   144.0     Matty Scheron  \n",
       "4274          0.0        0.0           0.0     0.0     0.0       Jayrin Pore  \n",
       "4275          0.0     2680.0           0.0     0.0   523.0    Kitakan Conale  \n",
       "4276          0.0        0.0           0.0     0.0     0.0  Lilace Leonzaley  \n",
       "\n",
       "[4277 rows x 13 columns]"
      ]
     },
     "execution_count": 60,
     "metadata": {},
     "output_type": "execute_result"
    }
   ],
   "source": [
    "test_data"
   ]
  },
  {
   "cell_type": "markdown",
   "id": "370249a6",
   "metadata": {},
   "source": [
    "# EDA"
   ]
  },
  {
   "cell_type": "markdown",
   "id": "3719b152",
   "metadata": {},
   "source": [
    "### Outliers"
   ]
  },
  {
   "cell_type": "code",
   "execution_count": null,
   "id": "0792fdf8",
   "metadata": {},
   "outputs": [
    {
     "ename": "KeyError",
     "evalue": "'total_spent'",
     "output_type": "error",
     "traceback": [
      "\u001b[1;31m---------------------------------------------------------------------------\u001b[0m",
      "\u001b[1;31mKeyError\u001b[0m                                  Traceback (most recent call last)",
      "File \u001b[1;32mc:\\dev\\Kaggle-Titanic-Spacechip-Competion\\.venv\\lib\\site-packages\\pandas\\core\\indexes\\base.py:3805\u001b[0m, in \u001b[0;36mIndex.get_loc\u001b[1;34m(self, key)\u001b[0m\n\u001b[0;32m   3804\u001b[0m \u001b[38;5;28;01mtry\u001b[39;00m:\n\u001b[1;32m-> 3805\u001b[0m     \u001b[38;5;28;01mreturn\u001b[39;00m \u001b[38;5;28;43mself\u001b[39;49m\u001b[38;5;241;43m.\u001b[39;49m\u001b[43m_engine\u001b[49m\u001b[38;5;241;43m.\u001b[39;49m\u001b[43mget_loc\u001b[49m\u001b[43m(\u001b[49m\u001b[43mcasted_key\u001b[49m\u001b[43m)\u001b[49m\n\u001b[0;32m   3806\u001b[0m \u001b[38;5;28;01mexcept\u001b[39;00m \u001b[38;5;167;01mKeyError\u001b[39;00m \u001b[38;5;28;01mas\u001b[39;00m err:\n",
      "File \u001b[1;32mindex.pyx:167\u001b[0m, in \u001b[0;36mpandas._libs.index.IndexEngine.get_loc\u001b[1;34m()\u001b[0m\n",
      "File \u001b[1;32mindex.pyx:196\u001b[0m, in \u001b[0;36mpandas._libs.index.IndexEngine.get_loc\u001b[1;34m()\u001b[0m\n",
      "File \u001b[1;32mpandas\\\\_libs\\\\hashtable_class_helper.pxi:7081\u001b[0m, in \u001b[0;36mpandas._libs.hashtable.PyObjectHashTable.get_item\u001b[1;34m()\u001b[0m\n",
      "File \u001b[1;32mpandas\\\\_libs\\\\hashtable_class_helper.pxi:7089\u001b[0m, in \u001b[0;36mpandas._libs.hashtable.PyObjectHashTable.get_item\u001b[1;34m()\u001b[0m\n",
      "\u001b[1;31mKeyError\u001b[0m: 'total_spent'",
      "\nThe above exception was the direct cause of the following exception:\n",
      "\u001b[1;31mKeyError\u001b[0m                                  Traceback (most recent call last)",
      "Cell \u001b[1;32mIn[61], line 28\u001b[0m\n\u001b[0;32m     25\u001b[0m axs[\u001b[38;5;241m1\u001b[39m][\u001b[38;5;241m1\u001b[39m]\u001b[38;5;241m.\u001b[39mset_title(\u001b[38;5;124m'\u001b[39m\u001b[38;5;124mScatter Plot: Transported vs RoomService\u001b[39m\u001b[38;5;124m'\u001b[39m)\n\u001b[0;32m     27\u001b[0m \u001b[38;5;66;03m# Plot on the second subplot\u001b[39;00m\n\u001b[1;32m---> 28\u001b[0m axs[\u001b[38;5;241m2\u001b[39m][\u001b[38;5;241m0\u001b[39m]\u001b[38;5;241m.\u001b[39mscatter(train_data[\u001b[38;5;124m'\u001b[39m\u001b[38;5;124mTransported\u001b[39m\u001b[38;5;124m'\u001b[39m], \u001b[43mtrain_data\u001b[49m\u001b[43m[\u001b[49m\u001b[38;5;124;43m'\u001b[39;49m\u001b[38;5;124;43mtotal_spent\u001b[39;49m\u001b[38;5;124;43m'\u001b[39;49m\u001b[43m]\u001b[49m)\n\u001b[0;32m     29\u001b[0m axs[\u001b[38;5;241m2\u001b[39m][\u001b[38;5;241m0\u001b[39m]\u001b[38;5;241m.\u001b[39mset_xlabel(\u001b[38;5;124m'\u001b[39m\u001b[38;5;124mTransported\u001b[39m\u001b[38;5;124m'\u001b[39m)\n\u001b[0;32m     30\u001b[0m axs[\u001b[38;5;241m2\u001b[39m][\u001b[38;5;241m0\u001b[39m]\u001b[38;5;241m.\u001b[39mset_ylabel(\u001b[38;5;124m'\u001b[39m\u001b[38;5;124mtotal_spent\u001b[39m\u001b[38;5;124m'\u001b[39m)\n",
      "File \u001b[1;32mc:\\dev\\Kaggle-Titanic-Spacechip-Competion\\.venv\\lib\\site-packages\\pandas\\core\\frame.py:4102\u001b[0m, in \u001b[0;36mDataFrame.__getitem__\u001b[1;34m(self, key)\u001b[0m\n\u001b[0;32m   4100\u001b[0m \u001b[38;5;28;01mif\u001b[39;00m \u001b[38;5;28mself\u001b[39m\u001b[38;5;241m.\u001b[39mcolumns\u001b[38;5;241m.\u001b[39mnlevels \u001b[38;5;241m>\u001b[39m \u001b[38;5;241m1\u001b[39m:\n\u001b[0;32m   4101\u001b[0m     \u001b[38;5;28;01mreturn\u001b[39;00m \u001b[38;5;28mself\u001b[39m\u001b[38;5;241m.\u001b[39m_getitem_multilevel(key)\n\u001b[1;32m-> 4102\u001b[0m indexer \u001b[38;5;241m=\u001b[39m \u001b[38;5;28;43mself\u001b[39;49m\u001b[38;5;241;43m.\u001b[39;49m\u001b[43mcolumns\u001b[49m\u001b[38;5;241;43m.\u001b[39;49m\u001b[43mget_loc\u001b[49m\u001b[43m(\u001b[49m\u001b[43mkey\u001b[49m\u001b[43m)\u001b[49m\n\u001b[0;32m   4103\u001b[0m \u001b[38;5;28;01mif\u001b[39;00m is_integer(indexer):\n\u001b[0;32m   4104\u001b[0m     indexer \u001b[38;5;241m=\u001b[39m [indexer]\n",
      "File \u001b[1;32mc:\\dev\\Kaggle-Titanic-Spacechip-Competion\\.venv\\lib\\site-packages\\pandas\\core\\indexes\\base.py:3812\u001b[0m, in \u001b[0;36mIndex.get_loc\u001b[1;34m(self, key)\u001b[0m\n\u001b[0;32m   3807\u001b[0m     \u001b[38;5;28;01mif\u001b[39;00m \u001b[38;5;28misinstance\u001b[39m(casted_key, \u001b[38;5;28mslice\u001b[39m) \u001b[38;5;129;01mor\u001b[39;00m (\n\u001b[0;32m   3808\u001b[0m         \u001b[38;5;28misinstance\u001b[39m(casted_key, abc\u001b[38;5;241m.\u001b[39mIterable)\n\u001b[0;32m   3809\u001b[0m         \u001b[38;5;129;01mand\u001b[39;00m \u001b[38;5;28many\u001b[39m(\u001b[38;5;28misinstance\u001b[39m(x, \u001b[38;5;28mslice\u001b[39m) \u001b[38;5;28;01mfor\u001b[39;00m x \u001b[38;5;129;01min\u001b[39;00m casted_key)\n\u001b[0;32m   3810\u001b[0m     ):\n\u001b[0;32m   3811\u001b[0m         \u001b[38;5;28;01mraise\u001b[39;00m InvalidIndexError(key)\n\u001b[1;32m-> 3812\u001b[0m     \u001b[38;5;28;01mraise\u001b[39;00m \u001b[38;5;167;01mKeyError\u001b[39;00m(key) \u001b[38;5;28;01mfrom\u001b[39;00m\u001b[38;5;250m \u001b[39m\u001b[38;5;21;01merr\u001b[39;00m\n\u001b[0;32m   3813\u001b[0m \u001b[38;5;28;01mexcept\u001b[39;00m \u001b[38;5;167;01mTypeError\u001b[39;00m:\n\u001b[0;32m   3814\u001b[0m     \u001b[38;5;66;03m# If we have a listlike key, _check_indexing_error will raise\u001b[39;00m\n\u001b[0;32m   3815\u001b[0m     \u001b[38;5;66;03m#  InvalidIndexError. Otherwise we fall through and re-raise\u001b[39;00m\n\u001b[0;32m   3816\u001b[0m     \u001b[38;5;66;03m#  the TypeError.\u001b[39;00m\n\u001b[0;32m   3817\u001b[0m     \u001b[38;5;28mself\u001b[39m\u001b[38;5;241m.\u001b[39m_check_indexing_error(key)\n",
      "\u001b[1;31mKeyError\u001b[0m: 'total_spent'"
     ]
    },
    {
     "data": {
      "image/png": "[encoded data removed]",
      "text/plain": [
       "<Figure size 1000x600 with 6 Axes>"
      ]
     },
     "metadata": {},
     "output_type": "display_data"
    }
   ],
   "source": [
    "fig, axs = plt.subplots(3, 2, figsize=(10, 6))  # Create a figure and a 1x2 subplot\n",
    "\n",
    "# Plot on the first subplot\n",
    "axs[0][0].scatter(treated_train_data['Transported'], treated_train_data['VRDeck'])\n",
    "axs[0][0].set_xlabel('Transported')\n",
    "axs[0][0].set_ylabel('VRDeck')\n",
    "axs[0][0].set_title('Scatter Plot: Transported vs VRDeck')\n",
    "\n",
    "# Plot on the second subplot\n",
    "axs[0][1].scatter(treated_train_data['Transported'], treated_train_data['ShoppingMall'])\n",
    "axs[0][1].set_xlabel('Transported')\n",
    "axs[0][1].set_ylabel('ShoppingMall')\n",
    "axs[0][1].set_title('Scatter Plot: Transported vs ShoppingMall')\n",
    "\n",
    "# Plot on the second subplot\n",
    "axs[1][0].scatter(treated_train_data['Transported'], treated_train_data['Spa'])\n",
    "axs[1][0].set_xlabel('Transported')\n",
    "axs[1][0].set_ylabel('Spa')\n",
    "axs[1][0].set_title('Scatter Plot: Transported vs Spa')\n",
    "\n",
    "# Plot on the second subplot\n",
    "axs[1][1].scatter(treated_train_data['Transported'], treated_train_data['RoomService'])\n",
    "axs[1][1].set_xlabel('Transported')\n",
    "axs[1][1].set_ylabel('RoomService')\n",
    "axs[1][1].set_title('Scatter Plot: Transported vs RoomService')\n",
    "\n",
    "# Plot on the second subplot\n",
    "axs[2][0].scatter(treated_train_data['Transported'], treated_train_data['total_spent'])\n",
    "axs[2][0].set_xlabel('Transported')\n",
    "axs[2][0].set_ylabel('total_spent')\n",
    "axs[2][0].set_title('Scatter Plot: Transported vs Total Spent')\n",
    "\n",
    "# Plot on the second subplot\n",
    "axs[2][1].scatter(treated_train_data['Transported'], treated_train_data['FoodCourt'])\n",
    "axs[2][1].set_xlabel('Transported')\n",
    "axs[2][1].set_ylabel('FoodCourt')\n",
    "axs[2][1].set_title('Scatter Plot: Transported vs FoodCourt')\n",
    "\n",
    "plt.tight_layout()  # Adjust the padding between and around the subplots\n",
    "plt.show()"
   ]
  },
  {
   "cell_type": "code",
   "execution_count": null,
   "id": "5067135f",
   "metadata": {},
   "outputs": [],
   "source": [
    "drop_ix_food = treated_train_data[(treated_train_data['FoodCourt']>20000)].index\n",
    "drop_ix_shopping = treated_train_data[(treated_train_data['ShoppingMall']>10000)].index\n",
    "\n",
    "treated_train_data = treated_train_data.drop(drop_ix_food)\n",
    "treated_train_data = treated_train_data.drop(drop_ix_shopping)"
   ]
  },
  {
   "cell_type": "markdown",
   "id": "b99f51b8",
   "metadata": {},
   "source": [
    "### Checking relationships between features"
   ]
  },
  {
   "cell_type": "code",
   "execution_count": null,
   "id": "4f40a9cc",
   "metadata": {},
   "outputs": [],
   "source": [
    "numerical_columns = ['RoomService', 'FoodCourt', 'ShoppingMall', 'Spa', 'VRDeck']\n",
    "\n",
    "figsize = (1.5, 1.3)\n",
    "g = sns.PairGrid(train_data, hue='Transported', vars=numerical_columns, height=figsize[1], aspect=figsize[0]/figsize[1])\n",
    "g.map_lower(sns.scatterplot)\n",
    "legend = g.add_legend(loc='upper right', bbox_to_anchor=(0.65, 0.7))\n",
    "\n",
    "for i, j in zip(*np.triu_indices_from(g.axes, 0)):\n",
    "    g.axes[i, j].set_visible(False)\n",
    "\n",
    "plt.show()"
   ]
  },
  {
   "cell_type": "code",
   "execution_count": null,
   "id": "ee48dbe0",
   "metadata": {},
   "outputs": [],
   "source": [
    "y_train = treated_train_data['Transported'].astype(int)\n",
    "treated_train_data.drop('Transported', axis=1, inplace=True)\n",
    "treated_train_data.drop('PassengerId', axis=1, inplace=True)\n",
    "treated_train_data.drop('passenger_group', axis=1, inplace=True)"
   ]
  },
  {
   "cell_type": "markdown",
   "id": "f0afcb50",
   "metadata": {},
   "source": [
    "### Feature Distribution"
   ]
  },
  {
   "cell_type": "code",
   "execution_count": null,
   "id": "0e0a5b94",
   "metadata": {},
   "outputs": [],
   "source": [
    "# Plot histograms for each variable\n",
    "fig, axes = plt.subplots(nrows=1, ncols=len(numerical_columns), figsize=(12, 4))\n",
    "\n",
    "for i, var in enumerate(numerical_columns):\n",
    "    axes[i].hist(treated_train_data[var], bins=20, alpha=0.7)\n",
    "    axes[i].set_title(var)\n",
    "\n",
    "plt.tight_layout()\n",
    "plt.show()"
   ]
  },
  {
   "cell_type": "code",
   "execution_count": null,
   "id": "08a79309",
   "metadata": {},
   "outputs": [],
   "source": [
    "from sklearn.preprocessing import PowerTransformer\n",
    "\n",
    "normalizer_pipeline = Pipeline([\n",
    "    ('feature_processing', ColumnTransformer([\n",
    "        ('normalizer', PowerTransformer(method='yeo-johnson'), make_column_selector(dtype_include=float)),\n",
    "        ('encoder', OneHotEncoder(), make_column_selector(dtype_exclude=np.number))\n",
    "    ], remainder='passthrough')),\n",
    "])\n",
    "\n",
    "treated_train_data = pd.DataFrame(normalizer_pipeline.fit_transform(treated_train_data), \n",
    "                                  columns= [col.replace('normalizer__', '').replace('remainder__', '').replace('encoder__', '') for col in normalizer_pipeline.named_steps['feature_processing'].get_feature_names_out()])\n",
    "\n",
    "treated_test_data = pd.DataFrame(normalizer_pipeline.transform(treated_test_data), \n",
    "                                 columns= [col.replace('normalizer__', '').replace('remainder__', '').replace('encoder__', '') for col in normalizer_pipeline.named_steps['feature_processing'].get_feature_names_out()])"
   ]
  },
  {
   "cell_type": "code",
   "execution_count": null,
   "id": "fa8a6667",
   "metadata": {},
   "outputs": [],
   "source": [
    "# Plot histograms for each variable\n",
    "fig, axes = plt.subplots(nrows=1, ncols=len(numerical_columns), figsize=(12, 4))\n",
    "\n",
    "for i, var in enumerate(numerical_columns):\n",
    "    axes[i].hist(treated_train_data[var], bins=20, alpha=0.7)\n",
    "    axes[i].set_title(var)\n",
    "\n",
    "plt.tight_layout()\n",
    "plt.show()"
   ]
  },
  {
   "cell_type": "markdown",
   "id": "b3fcb85f",
   "metadata": {},
   "source": [
    "# Data processing"
   ]
  },
  {
   "cell_type": "markdown",
   "id": "85bcd98d",
   "metadata": {},
   "source": [
    "### Tweaking"
   ]
  },
  {
   "cell_type": "code",
   "execution_count": null,
   "id": "dc8817be",
   "metadata": {},
   "outputs": [],
   "source": [
    "# The name of the passengers isn't going to be used for nothing in this notebook\n",
    "test_data.drop('Name',inplace=True,axis=1)\n",
    "train_data.drop('Name', axis=1, inplace=True)\n",
    "\n",
    "# The passenger group was utilized in processing steps so I already added it here to the DataFrame\n",
    "test_data['passenger_group']=test_data['PassengerId'].apply(lambda x: x[0:4])\n",
    "train_data['passenger_group']=train_data['PassengerId'].apply(lambda x: x[0:4])\n",
    "\n",
    "# The passenger IDs will be used at the end to return the correct IDs with the model previsions\n",
    "test_passenger_id = test_data['PassengerId']\n",
    "passenger_id = train_data['PassengerId']"
   ]
  },
  {
   "cell_type": "code",
   "execution_count": null,
   "id": "368ef397",
   "metadata": {},
   "outputs": [],
   "source": [
    "train_data"
   ]
  },
  {
   "cell_type": "markdown",
   "id": "4cb6a40c",
   "metadata": {},
   "source": [
    "### Classes and functions"
   ]
  },
  {
   "cell_type": "code",
   "execution_count": null,
   "id": "f1e305a9",
   "metadata": {},
   "outputs": [],
   "source": [
    "binary_columns = ['CryoSleep','VIP']\n",
    "numeric_columns = ['FoodCourt','RoomService','Spa','VRDeck','ShoppingMall']\n",
    "\n",
    "cabin_ix = 3 # The cabin index is used in the CabinSeparator class\n",
    "\n",
    "class CabinSeparator(BaseEstimator, TransformerMixin):\n",
    "\n",
    "    # The Cabin info has the aggregated information of the cabin deck, side and number. This function stores all the information but just returns to the original\n",
    "    # dataframe the cabin deck and side, given that the number can go until past 1000 and would probably overfit the data and not help very much\n",
    "    def __init__(self, add_separate_cabin=True):\n",
    "        self.add_separate_cabin = add_separate_cabin\n",
    "    def fit(self, X, y=None):\n",
    "        return self\n",
    "    def transform(self, X):\n",
    "        if self.add_separate_cabin:\n",
    "            X = pd.DataFrame(X)\n",
    "            cabin_deck = X.iloc[:, cabin_ix].apply(lambda s: str(s).split('/')[0])\n",
    "            cabin_num = X.iloc[:, cabin_ix].apply(lambda s: str(s).split('/')[0] if len(str(s).split('/'))==1 else str(s).split('/')[1])\n",
    "            cabin_side = X.iloc[:, cabin_ix].apply(lambda s: str(s).split('/')[0] if len(str(s).split('/'))==1 else str(s).split('/')[2])\n",
    "            X['cabin_deck'] = cabin_deck\n",
    "            X['cabin_side'] = cabin_side\n",
    "            X = X.drop(X.columns[[cabin_ix]], axis=1)\n",
    "            return X.values\n",
    "        else:\n",
    "            return X\n",
    "    def get_feature_names_out(self):\n",
    "        return ['cabin_deck','cabin_num','cabin_side']\n",
    "\n",
    "\n",
    "class FillBinaryNumericTransformer(BaseEstimator, TransformerMixin):\n",
    "    def fit(self, X, y=None):\n",
    "        return self\n",
    "\n",
    "    def transform(self, X):\n",
    "        # I am assuming here that if there is no record of the person in CryoSleep or if they are on the VIP list they probably aren't in neither\n",
    "        X.loc[:, binary_columns] = X[binary_columns].fillna(False)\n",
    "        # The same logic applies here, if there is no record of the passenger spending money, they probably didn't spend it\n",
    "        X.loc[:, numeric_columns] = X[numeric_columns].fillna(0)\n",
    "        return X\n",
    "\n",
    "class FillCabinDestHomeAgeTransformer(BaseEstimator, TransformerMixin):\n",
    "    def fit(self, X, y=None):\n",
    "        return self\n",
    "\n",
    "    def transform(self, X):\n",
    "        # Here the function groups the data by the passanger group, and fills in the other data based on the info of another passanger that's in their group\n",
    "        # For example if the daughter didn't put her data correct but her mother did, the code will retrieve that information\n",
    "        X['Cabin'] = X.groupby('passenger_group')['Cabin'].transform(lambda x: x.fillna(x.iloc[0]))\n",
    "        X['Destination'] = X.groupby('passenger_group')['Destination'].transform(lambda x: x.fillna(x.iloc[0]))\n",
    "        X['HomePlanet'] = X.groupby('passenger_group')['HomePlanet'].transform(lambda x: x.fillna(x.iloc[0]))\n",
    "        X['Age'] = X.groupby('passenger_group')['Age'].transform(lambda value: value.fillna(value.mean()))\n",
    "        return X\n",
    "\n",
    "class FillRestTransformer(BaseEstimator, TransformerMixin):\n",
    "    def fit(self, X, y=None):\n",
    "        return self\n",
    "\n",
    "    def transform(self, X):\n",
    "        # For the groups that didn't have any information, I just decided to fill in the Age with the mean of values from that group and the other just a 'None' string\n",
    "        X['Age'] = X.groupby('passenger_group')['Age'].transform(lambda value: value.fillna(value.mean()))\n",
    "        X['Age'] = X['Age'].transform(lambda value: value.fillna(value.mean()))\n",
    "        X[['Cabin','HomePlanet','Destination']] = X[['Cabin','HomePlanet','Destination']].fillna('None')\n",
    "        return X\n",
    "\n",
    "class AddTotalSpent(BaseEstimator, TransformerMixin):\n",
    "    def fit(self, X, y=None):\n",
    "        return self\n",
    "\n",
    "    def transform(self, X):\n",
    "        total_spent = np.sum(X[:, 5:10], axis=1)\n",
    "        X = np.column_stack((X, total_spent))\n",
    "        return X\n",
    "\n",
    "class AddPolyFeatures(BaseEstimator, TransformerMixin):\n",
    "    def __init__(self, degree=3, addpoly=True):\n",
    "        self.degree = degree\n",
    "        self.addpoly = addpoly\n",
    "        self.poly = PolynomialFeatures(degree=self.degree, include_bias=False)\n",
    "\n",
    "    def fit(self, X, y=None):\n",
    "        if self.addpoly:\n",
    "            self.poly.fit(X)\n",
    "        return self\n",
    "\n",
    "    def transform(self, X):\n",
    "        if self.addpoly:\n",
    "            return self.poly.transform(X)\n",
    "        else:\n",
    "            return X\n",
    "\n",
    "    def get_feature_names_out(self, input_features=None):\n",
    "        \"\"\"Ensure feature names are passed through correctly\"\"\"\n",
    "        if self.addpoly:\n",
    "            return self.poly.get_feature_names_out(input_features)\n",
    "        return np.array(input_features) if input_features is not None else np.array([])"
   ]
  },
  {
   "cell_type": "code",
   "execution_count": null,
   "id": "fe640b80",
   "metadata": {},
   "outputs": [],
   "source": [
    "train_column_names = [col for col in train_data.columns if col != 'Cabin'] + ['cabin_deck','cabin_side','total_spent']\n",
    "test_column_names = [col for col in test_data.columns if col != 'Cabin'] + ['cabin_deck','cabin_side','total_spent']\n",
    "\n",
    "preprocessing = Pipeline([\n",
    "    ('binary_numeric', FillBinaryNumericTransformer()),\n",
    "    ('cabin_dest_home_age', FillCabinDestHomeAgeTransformer()),\n",
    "    ('rest', FillRestTransformer()),\n",
    "    ('cabin_separator', CabinSeparator()),\n",
    "    ('add_total_spent', AddTotalSpent()),\n",
    "])\n",
    "\n",
    "treated_train_data = pd.DataFrame(preprocessing.fit_transform(train_data), columns=train_column_names)\n",
    "treated_test_data = pd.DataFrame(preprocessing.transform(test_data), columns=test_column_names)\n",
    "\n",
    "columns_to_convert = ['total_spent', 'Age', 'RoomService', 'FoodCourt', 'ShoppingMall', 'Spa', 'VRDeck']\n",
    "\n",
    "# Convert columns to numeric type\n",
    "treated_train_data[columns_to_convert] = treated_train_data[columns_to_convert].apply(pd.to_numeric, errors='coerce')\n",
    "treated_test_data[columns_to_convert] = treated_test_data[columns_to_convert].apply(pd.to_numeric, errors='coerce')\n",
    "\n",
    "treated_train_data[['VIP','CryoSleep']] = treated_train_data[['VIP','CryoSleep']].astype(int)\n",
    "treated_test_data[['VIP','CryoSleep']] = treated_test_data[['VIP','CryoSleep']].astype(int)"
   ]
  },
  {
   "cell_type": "code",
   "execution_count": null,
   "id": "caa0b0ec",
   "metadata": {
    "hidden": true
   },
   "outputs": [],
   "source": [
    "numeric_cols = treated_train_data[['Age','RoomService','FoodCourt','ShoppingMall','Spa','VRDeck','total_spent']]\n",
    "numeric_cols.head()"
   ]
  },
  {
   "cell_type": "markdown",
   "id": "5a76721d",
   "metadata": {},
   "source": [
    "# Model"
   ]
  },
  {
   "cell_type": "code",
   "execution_count": null,
   "id": "393ac019",
   "metadata": {},
   "outputs": [],
   "source": [
    "treated_train_data_ = treated_train_data.drop(['PassengerId','passenger_group'], axis=1)\n",
    "treated_test_data = treated_test_data.drop(['PassengerId','passenger_group'], axis=1)\n",
    "\n",
    "y_train = treated_train_data_['Transported']\n",
    "\n",
    "treated_train_data_dropped = treated_train_data_.drop(['Transported'], axis=1)"
   ]
  },
  {
   "cell_type": "code",
   "execution_count": null,
   "id": "f572470e",
   "metadata": {},
   "outputs": [],
   "source": [
    "# First, split the data into training and test sets\n",
    "X_train_full, X_test, y_train_full, y_test = train_test_split(treated_train_data_dropped, y_train, test_size=0.2, random_state=42)\n",
    "\n",
    "# Then, split the training set into training and validation sets\n",
    "X_train, X_val, y_train, y_val = train_test_split(X_train_full, y_train_full, test_size=0.25, random_state=42)  # 0.25 * 0.8 = 0.2\n",
    "\n",
    "# Display the shapes of the resulting datasets\n",
    "print(\"X_train shape:\", X_train.shape)\n",
    "print(\"X_val shape:\", X_val.shape)\n",
    "print(\"X_test shape:\", X_test.shape)\n",
    "print(\"y_train shape:\", y_train.shape)\n",
    "print(\"y_val shape:\", y_val.shape)\n",
    "print(\"y_test shape:\", y_test.shape)"
   ]
  },
  {
   "cell_type": "code",
   "execution_count": null,
   "id": "e9fd2703",
   "metadata": {},
   "outputs": [],
   "source": [
    "X_train"
   ]
  },
  {
   "cell_type": "markdown",
   "id": "37766784",
   "metadata": {},
   "source": [
    "def create_inverse(X):\n",
    "\n",
    "    X['1/Age'] = 1/(X['Age']+0.001)\n",
    "    X['1/RoomService'] = 1/(X['RoomService']+0.001)\n",
    "    X['1/FoodCourt'] = 1/(X['FoodCourt']+0.001)\n",
    "    X['1/ShoppingMall'] = 1/(X['ShoppingMall']+0.001)\n",
    "    X['1/Spa'] = 1/(X['Spa']+0.001)\n",
    "    X['1/VRDeck'] = 1/(X['VRDeck']+0.001)\n",
    "\n",
    "    return X\n",
    "\n",
    "X_train = create_inverse(X_train)\n",
    "X_val = create_inverse(X_val)\n",
    "X_test = create_inverse(X_test)\n",
    "treated_test_data = create_inverse(treated_test_data)\n",
    "\n",
    "X_train"
   ]
  },
  {
   "cell_type": "markdown",
   "id": "ddbed699",
   "metadata": {},
   "source": [
    "### Create new features"
   ]
  },
  {
   "cell_type": "markdown",
   "id": "0f38138b",
   "metadata": {
    "heading_collapsed": true
   },
   "source": [
    "### PCA Pipeline"
   ]
  },
  {
   "cell_type": "code",
   "execution_count": null,
   "id": "ad146388",
   "metadata": {
    "hidden": true
   },
   "outputs": [],
   "source": [
    "# Define the preprocessing pipelines for numeric and categorical data\n",
    "numeric_pipeline = Pipeline(steps=[\n",
    "    ('pca', PCA(n_components=0.865)),\n",
    "    ('add_poly', AddPolyFeatures()),\n",
    "    ('scaler', StandardScaler())\n",
    "])\n",
    "\n",
    "categorical_pipeline = Pipeline(steps=[\n",
    "    ('onehot', OneHotEncoder(drop='first'))\n",
    "])\n",
    "\n",
    "# Combine numeric and categorical pipelines using make_column_selector\n",
    "preprocessor = ColumnTransformer(\n",
    "    transformers=[\n",
    "        ('num', numeric_pipeline, make_column_selector(dtype_include=['int64', 'float64'])),\n",
    "        ('cat', categorical_pipeline, make_column_selector(dtype_include='object'))\n",
    "    ]\n",
    ")\n",
    "\n",
    "# Define the final pipeline including the preprocessor and the quantile transformer\n",
    "final_pipeline = Pipeline(steps=[\n",
    "    ('preprocessor', preprocessor),\n",
    "    ('quantile', QuantileTransformer(output_distribution='normal'))\n",
    "])\n",
    "\n",
    "# Fit the pipeline to the training data\n",
    "final_pipeline.fit(X_train)"
   ]
  },
  {
   "cell_type": "code",
   "execution_count": null,
   "id": "f5c49af3",
   "metadata": {},
   "outputs": [],
   "source": [
    "other_feat = ['Age', 'RoomService', 'FoodCourt', 'ShoppingMall', 'Spa', 'VRDeck', 'total_spent']\n",
    "\n",
    "other_feat_pipeline = Pipeline(steps=[\n",
    "    ('poly', PolynomialFeatures(degree=2)),\n",
    "    ('scaler', StandardScaler()),\n",
    "    ('quantile', QuantileTransformer(output_distribution='normal'))\n",
    "])\n",
    "\n",
    "# Combine the preprocessing steps using ColumnTransformer\n",
    "other_feat_preprocessor = ColumnTransformer(\n",
    "    transformers=[\n",
    "        ('scale_quantile', other_feat_pipeline, other_feat)\n",
    "    ],\n",
    "    remainder='passthrough'  # Keep the remaining columns unchanged\n",
    ")\n",
    "\n",
    "# Define the final pipeline\n",
    "other_feat_final_pipeline = Pipeline(steps=[\n",
    "    ('preprocessor', other_feat_preprocessor)\n",
    "])\n",
    "\n",
    "other_feat_final_pipeline.fit(X_train[other_feat])"
   ]
  },
  {
   "cell_type": "code",
   "execution_count": null,
   "id": "5f6bcc41",
   "metadata": {},
   "outputs": [],
   "source": [
    "X_train"
   ]
  },
  {
   "cell_type": "code",
   "execution_count": null,
   "id": "cdae40f7",
   "metadata": {},
   "outputs": [],
   "source": [
    "X_val"
   ]
  },
  {
   "cell_type": "markdown",
   "id": "1423cf6d",
   "metadata": {},
   "source": [
    "### Apply the pipelines"
   ]
  },
  {
   "cell_type": "code",
   "execution_count": null,
   "id": "6be9e634",
   "metadata": {},
   "outputs": [],
   "source": [
    "X_train_transformed = final_pipeline.transform(X_train)\n",
    "\n",
    "X_val_transformed = final_pipeline.transform(X_val)\n",
    "\n",
    "X_test_transformed = final_pipeline.transform(X_test)\n",
    "\n",
    "transformed_test_data = final_pipeline.transform(treated_test_data)\n",
    "\n",
    "print(\"Transformed shape:\", X_train_transformed.shape)\n",
    "print(\"Feature names shape:\", len(final_pipeline.get_feature_names_out()))"
   ]
  },
  {
   "cell_type": "code",
   "execution_count": null,
   "id": "ce37391b",
   "metadata": {},
   "outputs": [],
   "source": [
    "X_train_treated = pd.DataFrame(X_train_transformed, columns=final_pipeline.get_feature_names_out())\n",
    "\n",
    "X_val_treated = pd.DataFrame(X_val_transformed, columns=final_pipeline.get_feature_names_out())\n",
    "\n",
    "X_test_treated = pd.DataFrame(X_test_transformed, columns=final_pipeline.get_feature_names_out())\n",
    "\n",
    "test_data = pd.DataFrame(transformed_test_data, columns=final_pipeline.get_feature_names_out())\n",
    "\n",
    "other_X_train = pd.DataFrame(other_feat_final_pipeline.transform(X_train[other_feat]), columns=other_feat_final_pipeline.get_feature_names_out())\n",
    "\n",
    "other_X_val = pd.DataFrame(other_feat_final_pipeline.transform(X_val[other_feat]), columns=other_feat_final_pipeline.get_feature_names_out())\n",
    "\n",
    "other_X_test = pd.DataFrame(other_feat_final_pipeline.transform(X_test[other_feat]), columns=other_feat_final_pipeline.get_feature_names_out())\n",
    "\n",
    "other_test_data = pd.DataFrame(other_feat_final_pipeline.transform(treated_test_data[other_feat]), columns=other_feat_final_pipeline.get_feature_names_out())\n",
    "\n",
    "X_train = pd.concat([X_train_treated, other_X_train], axis=1)\n",
    "X_val = pd.concat([X_val_treated, other_X_val], axis=1)\n",
    "X_test = pd.concat([X_test_treated, other_X_test], axis=1)\n",
    "final_test = pd.concat([test_data, other_test_data], axis=1)"
   ]
  },
  {
   "cell_type": "code",
   "execution_count": null,
   "id": "4d3e70c2",
   "metadata": {},
   "outputs": [],
   "source": [
    "y_train = y_train.astype(int)\n",
    "y_val = y_val.astype(int)"
   ]
  },
  {
   "cell_type": "code",
   "execution_count": null,
   "id": "9162319d",
   "metadata": {},
   "outputs": [],
   "source": [
    "X_train"
   ]
  },
  {
   "cell_type": "code",
   "execution_count": null,
   "id": "43b7cc66",
   "metadata": {},
   "outputs": [],
   "source": [
    "X_test"
   ]
  },
  {
   "cell_type": "markdown",
   "id": "7f62c70f",
   "metadata": {},
   "source": [
    "#### Load models"
   ]
  },
  {
   "cell_type": "code",
   "execution_count": null,
   "id": "27e56ce8",
   "metadata": {},
   "outputs": [],
   "source": [
    "gbc_model = joblib.load('best_gbc_model.pkl')\n",
    "lr_model = joblib.load('best_lr_model.pkl')\n",
    "svc_model = joblib.load('best_svc_model.pkl')\n",
    "xgb_model = joblib.load('best_xgb_model.pkl')\n",
    "stacking_clf = joblib.load('stacking_clf.pkl')"
   ]
  },
  {
   "cell_type": "code",
   "execution_count": null,
   "id": "9c653a21",
   "metadata": {},
   "outputs": [],
   "source": [
    "gbc_model.fit(X_train, y_train)"
   ]
  },
  {
   "cell_type": "code",
   "execution_count": null,
   "id": "f724abfd",
   "metadata": {},
   "outputs": [],
   "source": [
    "svc_model.fit(X_train, y_train)"
   ]
  },
  {
   "cell_type": "code",
   "execution_count": null,
   "id": "a4de6307",
   "metadata": {},
   "outputs": [],
   "source": [
    "lr_model.fit(X_train, y_train)"
   ]
  },
  {
   "cell_type": "code",
   "execution_count": null,
   "id": "25a97356",
   "metadata": {},
   "outputs": [],
   "source": [
    "xgb_model.fit(X_train, y_train)"
   ]
  },
  {
   "cell_type": "code",
   "execution_count": null,
   "id": "e4f04832",
   "metadata": {},
   "outputs": [],
   "source": [
    "stacking_clf.fit(X_train, y_train)"
   ]
  },
  {
   "cell_type": "code",
   "execution_count": null,
   "id": "9c61e2f5",
   "metadata": {},
   "outputs": [],
   "source": [
    "def accuracy_check(model, X_val, y_val):\n",
    "\n",
    "    y_pred = model.predict(X_val)\n",
    "    eval_accuracy = accuracy_score(y_val, y_pred, )\n",
    "\n",
    "    return eval_accuracy"
   ]
  },
  {
   "cell_type": "code",
   "execution_count": null,
   "id": "372dad8f",
   "metadata": {},
   "outputs": [],
   "source": [
    "accuracy_check(stacking_clf, X_val, y_val)"
   ]
  },
  {
   "cell_type": "code",
   "execution_count": null,
   "id": "c7e103f0",
   "metadata": {},
   "outputs": [],
   "source": [
    "accuracy_check(gbc_model, X_val, y_val)"
   ]
  },
  {
   "cell_type": "code",
   "execution_count": null,
   "id": "b84adac3",
   "metadata": {},
   "outputs": [],
   "source": [
    "accuracy_check(xgb_model, X_val, y_val)"
   ]
  },
  {
   "cell_type": "code",
   "execution_count": null,
   "id": "e9ed232e",
   "metadata": {},
   "outputs": [],
   "source": [
    "accuracy_check(lr_model, X_val, y_val)"
   ]
  },
  {
   "cell_type": "code",
   "execution_count": null,
   "id": "ff62043f",
   "metadata": {},
   "outputs": [],
   "source": [
    "accuracy_check(svc_model, X_val, y_val)"
   ]
  },
  {
   "cell_type": "code",
   "execution_count": null,
   "id": "ccc811be",
   "metadata": {},
   "outputs": [],
   "source": [
    "stacking_clf = StackingClassifier(\n",
    "\n",
    "    estimators=[\n",
    "        ('xgb', xgb_model),\n",
    "        ('lr', lr_model),\n",
    "        ('svc', svc_model),\n",
    "        ('gbc', gbc_model)\n",
    "    ],\n",
    "    cv = 5\n",
    ")\n",
    "\n",
    "stacking_clf.fit(X_train, y_train)\n",
    "accuracy_check(stacking_clf, X_val, y_val)\n",
    "#joblib.dump(stacking_clf, 'stacking_clf.pkl')"
   ]
  },
  {
   "cell_type": "code",
   "execution_count": null,
   "id": "1c950825",
   "metadata": {},
   "outputs": [],
   "source": [
    "stacking_clf.predict_proba(X_val)"
   ]
  },
  {
   "cell_type": "code",
   "execution_count": null,
   "id": "cce70b24",
   "metadata": {},
   "outputs": [],
   "source": [
    "accuracy_check(stacking_clf, X_val, y_val)"
   ]
  },
  {
   "cell_type": "code",
   "execution_count": null,
   "id": "e6752b7d",
   "metadata": {},
   "outputs": [],
   "source": [
    "stacking_clf.predict(X_test)"
   ]
  },
  {
   "cell_type": "code",
   "execution_count": null,
   "id": "eb8b7357",
   "metadata": {},
   "outputs": [],
   "source": [
    "pd.DataFrame(stacking_clf.predict(final_test).astype(bool),test_passenger_id, columns=['Transported']).to_csv(path / 'pred_5.csv')"
   ]
  },
  {
   "cell_type": "code",
   "execution_count": null,
   "id": "e27ebfc8",
   "metadata": {},
   "outputs": [],
   "source": [
    "print(stacking_clf.predict(final_test))"
   ]
  },
  {
   "cell_type": "code",
   "execution_count": null,
   "id": "97d3534e",
   "metadata": {},
   "outputs": [],
   "source": []
  },
  {
   "cell_type": "code",
   "execution_count": null,
   "id": "084e101a",
   "metadata": {},
   "outputs": [],
   "source": [
    "misclassified_indices = np.where(y_val != stacking_clf.predict(X_val))[0]\n",
    "misclassified_samples = treated_train_data.iloc[misclassified_indices]\n",
    "misclassified_samples"
   ]
  },
  {
   "cell_type": "code",
   "execution_count": null,
   "id": "7d4b857e",
   "metadata": {},
   "outputs": [],
   "source": [
    "misclassified_samples.VIP.value_counts()"
   ]
  },
  {
   "cell_type": "code",
   "execution_count": null,
   "id": "d65b40e8",
   "metadata": {},
   "outputs": [],
   "source": [
    "misclassified_samples.Destination.value_counts()"
   ]
  },
  {
   "cell_type": "code",
   "execution_count": null,
   "id": "e74dba14",
   "metadata": {},
   "outputs": [],
   "source": [
    "misclassified_samples.HomePlanet.value_counts()"
   ]
  },
  {
   "cell_type": "code",
   "execution_count": null,
   "id": "16e8c358",
   "metadata": {},
   "outputs": [],
   "source": []
  }
 ],
 "metadata": {
  "kernelspec": {
   "display_name": ".venv",
   "language": "python",
   "name": "python3"
  },
  "language_info": {
   "codemirror_mode": {
    "name": "ipython",
    "version": 3
   },
   "file_extension": ".py",
   "mimetype": "text/x-python",
   "name": "python",
   "nbconvert_exporter": "python",
   "pygments_lexer": "ipython3",
   "version": "3.10.0"
  }
 },
 "nbformat": 4,
 "nbformat_minor": 5
}
